{
 "cells": [
  {
   "cell_type": "code",
   "execution_count": 238,
   "metadata": {
    "id": "4R0zTBsXS0jI"
   },
   "outputs": [],
   "source": [
    "#Importing pandas and numpy\n",
    "import pandas as pd\n",
    "import numpy as np\n",
    "import ast\n",
    "import warnings"
   ]
  },
  {
   "cell_type": "code",
   "execution_count": 239,
   "metadata": {
    "id": "cZtIrdhhTDFX"
   },
   "outputs": [],
   "source": [
    "#Reading dataframe\n",
    "data = pd.read_csv('health_insurance(updatednew).csv')"
   ]
  },
  {
   "cell_type": "code",
   "execution_count": 240,
   "metadata": {
    "colab": {
     "base_uri": "https://localhost:8080/",
     "height": 347
    },
    "id": "cDqrSzE-TGI7",
    "outputId": "6ae117ed-0241-42bf-8b49-d8bb8eac9ae0"
   },
   "outputs": [
    {
     "data": {
      "text/html": [
       "<div>\n",
       "<style scoped>\n",
       "    .dataframe tbody tr th:only-of-type {\n",
       "        vertical-align: middle;\n",
       "    }\n",
       "\n",
       "    .dataframe tbody tr th {\n",
       "        vertical-align: top;\n",
       "    }\n",
       "\n",
       "    .dataframe thead th {\n",
       "        text-align: right;\n",
       "    }\n",
       "</style>\n",
       "<table border=\"1\" class=\"dataframe\">\n",
       "  <thead>\n",
       "    <tr style=\"text-align: right;\">\n",
       "      <th></th>\n",
       "      <th>age</th>\n",
       "      <th>sex</th>\n",
       "      <th>weight</th>\n",
       "      <th>bmi</th>\n",
       "      <th>no_of_dependents</th>\n",
       "      <th>smoker</th>\n",
       "      <th>city</th>\n",
       "      <th>bloodpressure</th>\n",
       "      <th>diabetes</th>\n",
       "      <th>regular_ex</th>\n",
       "      <th>job_title</th>\n",
       "      <th>Hospital County</th>\n",
       "      <th>Days_spent</th>\n",
       "      <th>ccs_diagnosis_code</th>\n",
       "      <th>Illness</th>\n",
       "      <th>Code_illness</th>\n",
       "      <th>Mortality risk</th>\n",
       "      <th>Surg_Description</th>\n",
       "      <th>claim</th>\n",
       "      <th>PotentialFraud</th>\n",
       "    </tr>\n",
       "  </thead>\n",
       "  <tbody>\n",
       "    <tr>\n",
       "      <th>0</th>\n",
       "      <td>60.0</td>\n",
       "      <td>male</td>\n",
       "      <td>64</td>\n",
       "      <td>24.3</td>\n",
       "      <td>1</td>\n",
       "      <td>0</td>\n",
       "      <td>NewYork</td>\n",
       "      <td>72</td>\n",
       "      <td>0</td>\n",
       "      <td>0</td>\n",
       "      <td>Actor</td>\n",
       "      <td>Allegany</td>\n",
       "      <td>4</td>\n",
       "      <td>122</td>\n",
       "      <td>Other pneumonia</td>\n",
       "      <td>1</td>\n",
       "      <td>1.0</td>\n",
       "      <td>Medical</td>\n",
       "      <td>13112.6</td>\n",
       "      <td>No</td>\n",
       "    </tr>\n",
       "    <tr>\n",
       "      <th>1</th>\n",
       "      <td>49.0</td>\n",
       "      <td>female</td>\n",
       "      <td>75</td>\n",
       "      <td>22.6</td>\n",
       "      <td>1</td>\n",
       "      <td>0</td>\n",
       "      <td>Boston</td>\n",
       "      <td>78</td>\n",
       "      <td>1</td>\n",
       "      <td>1</td>\n",
       "      <td>Engineer</td>\n",
       "      <td>Allegany</td>\n",
       "      <td>4</td>\n",
       "      <td>197</td>\n",
       "      <td>Cellulitis &amp; other skin infections</td>\n",
       "      <td>3</td>\n",
       "      <td>2.0</td>\n",
       "      <td>Medical</td>\n",
       "      <td>9567.0</td>\n",
       "      <td>No</td>\n",
       "    </tr>\n",
       "    <tr>\n",
       "      <th>2</th>\n",
       "      <td>32.0</td>\n",
       "      <td>female</td>\n",
       "      <td>64</td>\n",
       "      <td>17.8</td>\n",
       "      <td>2</td>\n",
       "      <td>1</td>\n",
       "      <td>Phildelphia</td>\n",
       "      <td>88</td>\n",
       "      <td>1</td>\n",
       "      <td>1</td>\n",
       "      <td>Academician</td>\n",
       "      <td>Allegany</td>\n",
       "      <td>3</td>\n",
       "      <td>122</td>\n",
       "      <td>Other pneumonia</td>\n",
       "      <td>1</td>\n",
       "      <td>1.0</td>\n",
       "      <td>Medical</td>\n",
       "      <td>32734.2</td>\n",
       "      <td>No</td>\n",
       "    </tr>\n",
       "    <tr>\n",
       "      <th>3</th>\n",
       "      <td>61.0</td>\n",
       "      <td>female</td>\n",
       "      <td>53</td>\n",
       "      <td>36.4</td>\n",
       "      <td>1</td>\n",
       "      <td>1</td>\n",
       "      <td>Pittsburg</td>\n",
       "      <td>72</td>\n",
       "      <td>1</td>\n",
       "      <td>0</td>\n",
       "      <td>Chef</td>\n",
       "      <td>Allegany</td>\n",
       "      <td>1</td>\n",
       "      <td>122</td>\n",
       "      <td>Other pneumonia</td>\n",
       "      <td>1</td>\n",
       "      <td>1.0</td>\n",
       "      <td>Medical</td>\n",
       "      <td>48517.6</td>\n",
       "      <td>Yes</td>\n",
       "    </tr>\n",
       "    <tr>\n",
       "      <th>4</th>\n",
       "      <td>19.0</td>\n",
       "      <td>female</td>\n",
       "      <td>50</td>\n",
       "      <td>20.6</td>\n",
       "      <td>0</td>\n",
       "      <td>0</td>\n",
       "      <td>Buffalo</td>\n",
       "      <td>82</td>\n",
       "      <td>1</td>\n",
       "      <td>0</td>\n",
       "      <td>HomeMakers</td>\n",
       "      <td>Allegany</td>\n",
       "      <td>3</td>\n",
       "      <td>122</td>\n",
       "      <td>Other pneumonia</td>\n",
       "      <td>2</td>\n",
       "      <td>3.0</td>\n",
       "      <td>Medical</td>\n",
       "      <td>1731.7</td>\n",
       "      <td>No</td>\n",
       "    </tr>\n",
       "  </tbody>\n",
       "</table>\n",
       "</div>"
      ],
      "text/plain": [
       "    age     sex  weight   bmi  no_of_dependents  smoker         city  \\\n",
       "0  60.0    male      64  24.3                 1       0      NewYork   \n",
       "1  49.0  female      75  22.6                 1       0       Boston   \n",
       "2  32.0  female      64  17.8                 2       1  Phildelphia   \n",
       "3  61.0  female      53  36.4                 1       1    Pittsburg   \n",
       "4  19.0  female      50  20.6                 0       0      Buffalo   \n",
       "\n",
       "   bloodpressure  diabetes  regular_ex    job_title Hospital County  \\\n",
       "0             72         0           0        Actor        Allegany   \n",
       "1             78         1           1     Engineer        Allegany   \n",
       "2             88         1           1  Academician        Allegany   \n",
       "3             72         1           0         Chef        Allegany   \n",
       "4             82         1           0   HomeMakers        Allegany   \n",
       "\n",
       "  Days_spent  ccs_diagnosis_code                             Illness  \\\n",
       "0          4                 122                     Other pneumonia   \n",
       "1          4                 197  Cellulitis & other skin infections   \n",
       "2          3                 122                     Other pneumonia   \n",
       "3          1                 122                     Other pneumonia   \n",
       "4          3                 122                     Other pneumonia   \n",
       "\n",
       "   Code_illness  Mortality risk Surg_Description    claim PotentialFraud  \n",
       "0             1             1.0          Medical  13112.6             No  \n",
       "1             3             2.0          Medical   9567.0             No  \n",
       "2             1             1.0          Medical  32734.2             No  \n",
       "3             1             1.0          Medical  48517.6            Yes  \n",
       "4             2             3.0          Medical   1731.7             No  "
      ]
     },
     "execution_count": 240,
     "metadata": {},
     "output_type": "execute_result"
    }
   ],
   "source": [
    "#Displaying first 5 rows\n",
    "data.head()"
   ]
  },
  {
   "cell_type": "code",
   "execution_count": 241,
   "metadata": {},
   "outputs": [
    {
     "data": {
      "text/plain": [
       "0"
      ]
     },
     "execution_count": 241,
     "metadata": {},
     "output_type": "execute_result"
    }
   ],
   "source": [
    "#There are no duplicated rows in the data\n",
    "data.duplicated().sum()"
   ]
  },
  {
   "cell_type": "code",
   "execution_count": 242,
   "metadata": {
    "colab": {
     "base_uri": "https://localhost:8080/"
    },
    "id": "JJC1lmlZTIGS",
    "outputId": "d5de9cce-a229-4b4a-956f-6b4dc580ee44"
   },
   "outputs": [
    {
     "data": {
      "text/plain": [
       "age                   396\n",
       "sex                     0\n",
       "weight                  0\n",
       "bmi                   956\n",
       "no_of_dependents        0\n",
       "smoker                  0\n",
       "city                    0\n",
       "bloodpressure           0\n",
       "diabetes                0\n",
       "regular_ex              0\n",
       "job_title               0\n",
       "Hospital County        33\n",
       "Days_spent              0\n",
       "ccs_diagnosis_code      0\n",
       "Illness                 0\n",
       "Code_illness            0\n",
       "Mortality risk          1\n",
       "Surg_Description        0\n",
       "claim                   0\n",
       "PotentialFraud          0\n",
       "dtype: int64"
      ]
     },
     "execution_count": 242,
     "metadata": {},
     "output_type": "execute_result"
    }
   ],
   "source": [
    "#Calculating the total Null Values in the data\n",
    "data.isnull().sum()"
   ]
  },
  {
   "cell_type": "code",
   "execution_count": 243,
   "metadata": {
    "id": "X1atOoPXTMc-"
   },
   "outputs": [],
   "source": [
    "#Dropping rows having atleast one NULL value and storing data in new variable 'data_Clean'\n",
    "data_clean = data.dropna()\n"
   ]
  },
  {
   "cell_type": "code",
   "execution_count": 244,
   "metadata": {
    "colab": {
     "base_uri": "https://localhost:8080/"
    },
    "id": "7DOAfVdXTPJx",
    "outputId": "6995bcd9-6e75-4c72-a382-06d9cd82c0e4"
   },
   "outputs": [
    {
     "data": {
      "text/plain": [
       "array(['male', 'female'], dtype=object)"
      ]
     },
     "execution_count": 244,
     "metadata": {},
     "output_type": "execute_result"
    }
   ],
   "source": [
    "#Calculating the unique values of a column 'sex' which has data in string\n",
    "data_clean['sex'].unique()"
   ]
  },
  {
   "cell_type": "code",
   "execution_count": 245,
   "metadata": {
    "colab": {
     "base_uri": "https://localhost:8080/"
    },
    "id": "JgxE8OAcTSpS",
    "outputId": "ac7920c7-f656-4a43-b8ef-004d947cbde7"
   },
   "outputs": [
    {
     "name": "stderr",
     "output_type": "stream",
     "text": [
      "C:\\Users\\manas\\AppData\\Local\\Temp\\ipykernel_14496\\3487469576.py:2: SettingWithCopyWarning: \n",
      "A value is trying to be set on a copy of a slice from a DataFrame.\n",
      "Try using .loc[row_indexer,col_indexer] = value instead\n",
      "\n",
      "See the caveats in the documentation: https://pandas.pydata.org/pandas-docs/stable/user_guide/indexing.html#returning-a-view-versus-a-copy\n",
      "  data_clean['sex'] = data_clean['sex'].astype(str).map({'female': 0, 'male': 1})\n"
     ]
    },
    {
     "data": {
      "text/plain": [
       "0        1\n",
       "1        0\n",
       "2        0\n",
       "3        0\n",
       "4        0\n",
       "        ..\n",
       "14995    1\n",
       "14996    1\n",
       "14997    1\n",
       "14998    1\n",
       "14999    1\n",
       "Name: sex, Length: 13621, dtype: int64"
      ]
     },
     "execution_count": 245,
     "metadata": {},
     "output_type": "execute_result"
    }
   ],
   "source": [
    "#Converting the string unique values of column 'sex' to numerical 0 and 1 as the machine understands only numerical data\n",
    "data_clean['sex'] = data_clean['sex'].astype(str).map({'female': 0, 'male': 1})\n",
    "data_clean['sex']"
   ]
  },
  {
   "cell_type": "code",
   "execution_count": 246,
   "metadata": {
    "colab": {
     "base_uri": "https://localhost:8080/"
    },
    "id": "mUIQ4hHiTUoi",
    "outputId": "1e71681e-44b4-41e7-88d6-ff714be35c05"
   },
   "outputs": [
    {
     "data": {
      "text/plain": [
       "array(['NewYork', 'Boston', 'Phildelphia', 'Pittsburg', 'Buffalo',\n",
       "       'AtlanticCity', 'Portland', 'Cambridge', 'Springfield', 'Syracuse',\n",
       "       'Baltimore', 'York', 'Trenton', 'Warwick', 'WashingtonDC',\n",
       "       'Providence', 'Harrisburg', 'Newport', 'Stamford', 'Worcester',\n",
       "       'Atlanta', 'Brimingham', 'Charleston', 'Charlotte', 'Louisville',\n",
       "       'Memphis', 'Nashville', 'NewOrleans', 'Raleigh', 'Houston',\n",
       "       'Georgia', 'Oklahoma', 'Orlando', 'Macon', 'Huntsville',\n",
       "       'Knoxville', 'Florence', 'Miami', 'Tampa', 'PanamaCity',\n",
       "       'Kingsport', 'Marshall', 'Mandan', 'Waterloo', 'IowaCity',\n",
       "       'Columbia', 'Indianapolis', 'Cincinnati', 'Bloomington', 'Salina',\n",
       "       'KanasCity', 'Brookings', 'Minot', 'Chicago', 'Lincoln',\n",
       "       'GrandForks', 'Fargo', 'Cleveland', 'Columbus', 'Rochester',\n",
       "       'JeffersonCity', 'Escabana', 'Youngstown', 'SantaRosa', 'Eureka',\n",
       "       'SanFrancisco', 'SanJose', 'LosAngeles', 'Oxnard', 'SanDeigo',\n",
       "       'Carlsbad', 'Prescott', 'Fresno', 'Reno', 'LasVegas', 'Tucson',\n",
       "       'Denver', 'Kingman', 'Bakersfield', 'Mexicali', 'SilverCity',\n",
       "       'Pheonix', 'SantaFe', 'Lovelock', 'Oceanside', 'Montrose',\n",
       "       'SanLuis', 'Hartford', 'FallsCity', 'Canton', 'Minneapolis'],\n",
       "      dtype=object)"
      ]
     },
     "execution_count": 246,
     "metadata": {},
     "output_type": "execute_result"
    }
   ],
   "source": [
    "#Calculating the unique values of a column 'city' which has data in string\n",
    "data_clean['city'].unique()"
   ]
  },
  {
   "cell_type": "code",
   "execution_count": 247,
   "metadata": {
    "colab": {
     "base_uri": "https://localhost:8080/"
    },
    "id": "2i33l5GsTXtG",
    "outputId": "005cc51c-924d-4fc3-abe3-a0377303c7c4"
   },
   "outputs": [
    {
     "name": "stderr",
     "output_type": "stream",
     "text": [
      "C:\\Users\\manas\\AppData\\Local\\Temp\\ipykernel_14496\\1644533818.py:2: SettingWithCopyWarning: \n",
      "A value is trying to be set on a copy of a slice from a DataFrame.\n",
      "Try using .loc[row_indexer,col_indexer] = value instead\n",
      "\n",
      "See the caveats in the documentation: https://pandas.pydata.org/pandas-docs/stable/user_guide/indexing.html#returning-a-view-versus-a-copy\n",
      "  data_clean['city']=data_clean['city'].astype(str).map({'NewYork':1, 'Boston':2, 'Phildelphia':3, 'Pittsburg':4, 'Buffalo':5,\n"
     ]
    }
   ],
   "source": [
    "#Converting the string unique values of column 'city' to numerical data as the machine understands only numerical values\n",
    "data_clean['city']=data_clean['city'].astype(str).map({'NewYork':1, 'Boston':2, 'Phildelphia':3, 'Pittsburg':4, 'Buffalo':5,\n",
    "       'AtlanticCity':6, 'Portland':7, 'Cambridge':8, 'Springfield':9, 'Syracuse':10,\n",
    "       'Baltimore':11, 'York':12, 'Trenton':13, 'Warwick':14, 'WashingtonDC':15,\n",
    "       'Providence':16, 'Harrisburg':17, 'Newport':18, 'Stamford':19, 'Worcester':20,\n",
    "       'Atlanta':86, 'Brimingham':87, 'Charleston':88, 'Charlotte':89, 'Louisville':90,\n",
    "       'Memphis':21, 'Nashville':22, 'NewOrleans':23, 'Raleigh':24, 'Houston':25,\n",
    "       'Georgia':26, 'Oklahoma':26, 'Orlando':27, 'Macon':28, 'Huntsville':29,\n",
    "       'Knoxville':30, 'Florence':31, 'Miami':32, 'Tampa':33, 'PanamaCity':34,\n",
    "       'Kingsport':35, 'Marshall':36, 'Mandan':37, 'Waterloo':38, 'IowaCity':39,\n",
    "       'Columbia':40, 'Indianapolis':41, 'Cincinnati':42, 'Bloomington':43, 'Salina':44,\n",
    "       'KanasCity':45, 'Brookings':46, 'Minot':47, 'Chicago':48, 'Lincoln':49,\n",
    "       'GrandForks':50, 'Fargo':51, 'Cleveland':52, 'Columbus':53, 'Rochester':54,\n",
    "       'JeffersonCity':55, 'Escabana':56, 'Youngstown':57, 'SantaRosa':58, 'Eureka':59,\n",
    "       'SanFrancisco':60, 'SanJose':61, 'LosAngeles':62, 'Oxnard':63, 'SanDeigo':64,\n",
    "       'Carlsbad':65, 'Prescott':66, 'Fresno':67, 'Reno':68, 'LasVegas':69, 'Tucson':70,\n",
    "       'Denver':71, 'Kingman':72, 'Bakersfield':73, 'Mexicali':74, 'SilverCity':75,\n",
    "       'Pheonix':76, 'SantaFe':77, 'Lovelock':78, 'Oceanside':79, 'Montrose':80,\n",
    "       'SanLuis':81, 'Hartford':82, 'FallsCity':83, 'Canton':84, 'Minneapolis':85})"
   ]
  },
  {
   "cell_type": "code",
   "execution_count": 248,
   "metadata": {
    "colab": {
     "base_uri": "https://localhost:8080/"
    },
    "id": "jOCAbBVuTZ4p",
    "outputId": "9e9d818d-a155-4cfe-dae4-2b2bf4dcc0da"
   },
   "outputs": [
    {
     "data": {
      "text/plain": [
       "array(['Actor', 'Engineer', 'Academician', 'Chef', 'HomeMakers', 'Dancer',\n",
       "       'Singer', 'DataScientist', 'Police', 'Student', 'Doctor',\n",
       "       'Manager', 'Photographer', 'Beautician', 'CA', 'Blogger', 'CEO',\n",
       "       'Labourer', 'Accountant', 'FilmDirector', 'Technician',\n",
       "       'FashionDesigner', 'Architect', 'HouseKeeper', 'FilmMaker',\n",
       "       'Buisnessman', 'DefencePersonnels', 'Analyst', 'Clerks',\n",
       "       'Politician', 'ITProfessional', 'Farmer', 'Journalist', 'Lawyer',\n",
       "       'GovEmployee'], dtype=object)"
      ]
     },
     "execution_count": 248,
     "metadata": {},
     "output_type": "execute_result"
    }
   ],
   "source": [
    "#Calculating the unique values of a column 'job_title' which has data in string\n",
    "data_clean['job_title'].unique()"
   ]
  },
  {
   "cell_type": "code",
   "execution_count": 249,
   "metadata": {
    "colab": {
     "base_uri": "https://localhost:8080/"
    },
    "id": "ocEiSAKdTdIC",
    "outputId": "571ceba9-49ab-4e4f-f8ad-944c940022b8"
   },
   "outputs": [
    {
     "name": "stderr",
     "output_type": "stream",
     "text": [
      "C:\\Users\\manas\\AppData\\Local\\Temp\\ipykernel_14496\\2506347613.py:2: SettingWithCopyWarning: \n",
      "A value is trying to be set on a copy of a slice from a DataFrame.\n",
      "Try using .loc[row_indexer,col_indexer] = value instead\n",
      "\n",
      "See the caveats in the documentation: https://pandas.pydata.org/pandas-docs/stable/user_guide/indexing.html#returning-a-view-versus-a-copy\n",
      "  data_clean['job_title']=data_clean['job_title'].map({'Actor':1, 'Engineer':2, 'Academician':3, 'Chef':4, 'HomeMakers':5, 'Dancer':6,\n"
     ]
    }
   ],
   "source": [
    "#Converting the string unique values of column 'city' to numerical data as the machine understands only numerical values\n",
    "data_clean['job_title']=data_clean['job_title'].map({'Actor':1, 'Engineer':2, 'Academician':3, 'Chef':4, 'HomeMakers':5, 'Dancer':6,\n",
    "       'Singer':7, 'DataScientist':8, 'Police':9, 'Student':10, 'Doctor':11,\n",
    "       'Manager':12, 'Photographer':13, 'Beautician':14, 'CA':15, 'Blogger':16, 'CEO':17,\n",
    "       'Labourer':18, 'Accountant':19, 'FilmDirector':20, 'Technician':21,\n",
    "       'FashionDesigner':22, 'Architect':23, 'HouseKeeper':24, 'FilmMaker':25,\n",
    "       'Buisnessman':26, 'DefencePersonnels':27, 'Analyst':28, 'Clerks':29,\n",
    "       'Politician':30, 'ITProfessional':31, 'Farmer':32, 'Journalist':33, 'Lawyer':34,\n",
    "       'GovEmployee':35})"
   ]
  },
  {
   "cell_type": "code",
   "execution_count": 250,
   "metadata": {
    "colab": {
     "base_uri": "https://localhost:8080/"
    },
    "id": "Omsaq4LnTfYv",
    "outputId": "cb24b5a5-1d4c-4465-e94b-eae4adb0178b"
   },
   "outputs": [
    {
     "data": {
      "text/plain": [
       "array(['Allegany', 'Cattaraugus', 'Chautauqua'], dtype=object)"
      ]
     },
     "execution_count": 250,
     "metadata": {},
     "output_type": "execute_result"
    }
   ],
   "source": [
    "#Calculating the unique values of a column 'Hospital County' which has data in string\n",
    "data_clean['Hospital County'].unique()"
   ]
  },
  {
   "cell_type": "code",
   "execution_count": 251,
   "metadata": {
    "colab": {
     "base_uri": "https://localhost:8080/"
    },
    "id": "Q18zOJ0RTiFB",
    "outputId": "24fb863d-6da4-42c7-8db9-3fc3b17df4ec"
   },
   "outputs": [
    {
     "name": "stderr",
     "output_type": "stream",
     "text": [
      "C:\\Users\\manas\\AppData\\Local\\Temp\\ipykernel_14496\\3486184878.py:2: SettingWithCopyWarning: \n",
      "A value is trying to be set on a copy of a slice from a DataFrame.\n",
      "Try using .loc[row_indexer,col_indexer] = value instead\n",
      "\n",
      "See the caveats in the documentation: https://pandas.pydata.org/pandas-docs/stable/user_guide/indexing.html#returning-a-view-versus-a-copy\n",
      "  data_clean['Hospital County']=data_clean['Hospital County'].astype(str).map({'Allegany':0, 'Cattaraugus':1, 'Chautauqua':3})\n"
     ]
    }
   ],
   "source": [
    "#Converting the string unique values of column 'Hospital County' to numerical data as the machine understands only numerical values\n",
    "data_clean['Hospital County']=data_clean['Hospital County'].astype(str).map({'Allegany':0, 'Cattaraugus':1, 'Chautauqua':3})"
   ]
  },
  {
   "cell_type": "code",
   "execution_count": 252,
   "metadata": {
    "colab": {
     "base_uri": "https://localhost:8080/"
    },
    "id": "DE3x64P6TkAQ",
    "outputId": "741c40f0-7163-47a1-fa3b-d9cad1af7146"
   },
   "outputs": [
    {
     "data": {
      "text/plain": [
       "array(['Other pneumonia', 'Cellulitis & other skin infections',\n",
       "       'Other digestive system diagnoses',\n",
       "       'Other gastroenteritis, nausa & vomiting',\n",
       "       'Chronic obstructive pulmonary disease',\n",
       "       'Infections of upper respiratory tract',\n",
       "       'Kidney & urinary tract infections',\n",
       "       'Respiratory signs, symptoms & minor diagnoses',\n",
       "       'Intestinal obstruction',\n",
       "       'Post-operative, post-traumatic, other device infections',\n",
       "       'Diverticulitis & diverticulosis',\n",
       "       'Other ear, nose, mouth,throat & cranial/facial diagnoses',\n",
       "       'Major chest & respiratory trauma',\n",
       "       'Other & unspecified gastrointestinal hemorrhage', 'Asthma',\n",
       "       'Electrolyte disorders except hypovolemia related',\n",
       "       'Malnutrition, failure to thrive & other nutritional disorders',\n",
       "       'Hypovolemia & related electrolyte disorders',\n",
       "       'Peripheral & other vascular disorders',\n",
       "       'Other kidney & urinary tract diagnoses, signs & symptoms',\n",
       "       'Head trauma w coma >1 hr or hemorrhage',\n",
       "       'Signs, symptoms & other factors influencing health status',\n",
       "       'RENAL FAILURE',\n",
       "       'Multiple sclerosis & other demyelinating diseases',\n",
       "       'Hypertension',\n",
       "       'Contusion, open wound & other trauma to skin & subcutaneous tissue',\n",
       "       'Disorders of pancreas except malignancy',\n",
       "       'Connective tissue disorders',\n",
       "       'Uterine & adnexa procedures for non-malignancy except leiomyoma',\n",
       "       'Cesarean delivery', 'Septicemia & disseminated infections',\n",
       "       'Respiratory Failure', 'Inflammatory bowel disease',\n",
       "       'Alcohol abuse & dependence', 'Laparoscopic cholecystectomy',\n",
       "       'Major respiratory infections & inflammations',\n",
       "       'Fractures & dislocations except femur, pelvis & back',\n",
       "       'Angina pectoris & coronary atherosclerosis', 'Vaginal delivery',\n",
       "       'Disorders of gallbladder & biliary tract',\n",
       "       'Other endocrine disorders',\n",
       "       'Malfunction, reaction, complic of genitourinary device or proc',\n",
       "       'Chest pain',\n",
       "       'Neonate birthwt >2499g, normal newborn or neonate w other problem',\n",
       "       'Menstrual & other female reproductive system disorders',\n",
       "       'Pulmonary embolism',\n",
       "       'Peripheral, cranial & autonomic nerve disorders', 'Heart failure',\n",
       "       'Major small & large bowel procedures',\n",
       "       'Bronchiolitis & RSV pneumonia', 'Hip joint replacement',\n",
       "       'Major hematologic/immunologic diag exc sickle cell crisis & coagul',\n",
       "       'CVA & precerebral occlusion w infarct',\n",
       "       'Nonextensive procedure unrelated to principal diagnosis',\n",
       "       'Major gastrointestinal & peritoneal infections',\n",
       "       'Acute myocardial infarction',\n",
       "       'Musculoskeletal malignancy & pathol fracture d/t muscskel malig',\n",
       "       'Cardiac arrhythmia & conduction disorders',\n",
       "       'Other antepartum diagnoses', 'Hip and femur fracture repair',\n",
       "       'Poisoning of medicinal agents', 'Abdominal pain',\n",
       "       'Other anemia & disorders of blood & blood-forming organs',\n",
       "       'Other respiratory diagnoses except signs, symptoms & minor diagnoses',\n",
       "       'Malfunction, reaction & complication of GI device or procedure',\n",
       "       'Other musculoskeletal system & connective tissue diagnoses',\n",
       "       'Other injury, poisoning & toxic effect diagnoses',\n",
       "       'Fracture of pelvis or dislocation of hip',\n",
       "       'HIV w major HIV related condition',\n",
       "       'Uterine & adnexa procedures for leiomyoma',\n",
       "       'Neonate bwt 2000-2499g, normal newborn or neonate w other problem',\n",
       "       'Opioid abuse & dependence',\n",
       "       'Respiratory system diagnosis w ventilator support 96+ hours',\n",
       "       'Seizure', 'Nephritis & nephrosis',\n",
       "       'Neonate, birthwt >2499g w resp dist synd/oth maj resp cond',\n",
       "       'Malignant breast disorders', 'Peptic ulcer & gastritis',\n",
       "       'Syncope & collapse', 'Appendectomy', 'Viral illness',\n",
       "       'Vaginal delivery w sterilization &/or D&C',\n",
       "       'Urinary stones & acquired upper urinary tract obstruction',\n",
       "       'Other female reproductive system & related procedures',\n",
       "       'Moderately extensive procedure unrelated to principal diagnosis',\n",
       "       'Drug & alcohol abuse or dependence, left against medical advice',\n",
       "       'Dilation & curettage for non-obstetric diagnoses',\n",
       "       'Cardiac structural & valvular disorders',\n",
       "       'Nervous system malignancy',\n",
       "       'Other back & neck disorders, fractures & injuries',\n",
       "       'Other nervous system & related procedures',\n",
       "       'Digestive malignancy',\n",
       "       'Infectious & parasitic diseases including HIV w O.R. procedure',\n",
       "       'Diabetes', 'Other digestive system & abdominal procedures',\n",
       "       'Vaginal delivery w complicating procedures exc sterilization &/or D&C',\n",
       "       'Other circulatory system diagnoses',\n",
       "       'Neonate, transferred < 5 days old, born here',\n",
       "       'Allergic reactions', 'Major esophageal disorders',\n",
       "       'Neonate birthwt >2499g w other significant condition',\n",
       "       'Major depressive disorders & other/unspecified psychoses',\n",
       "       'Vertigo & other labyrinth disorders',\n",
       "       'Procedure w diag of rehab, aftercare or oth contact w health service',\n",
       "       'Skin ulcers', 'Foot & toe procedures',\n",
       "       'Post-op, post-trauma, other device infections w O.R. procedure',\n",
       "       'Inguinal, femoral & umbilical hernia procedures',\n",
       "       'Peritoneal adhesiolysis',\n",
       "       'Toxic effects of non-medicinal substances', 'Fever',\n",
       "       'Malignancy of hepatobiliary system & pancreas',\n",
       "       'D&C, aspiration curettage or hysterotomy for obstetric diagnoses',\n",
       "       'Organic mental health disturbances', 'Preterm labor',\n",
       "       'Tendon, muscle & other soft tissue procedures',\n",
       "       'Transient ischemia', 'Intracranial hemorrhage',\n",
       "       'O.R. procedure for other complications of treatment',\n",
       "       'Urethral & transurethral procedures',\n",
       "       'Female reproductive system malignancy',\n",
       "       'Eye disorders except major infections',\n",
       "       'Nontraumatic stupor & coma', 'Other esophageal disorders',\n",
       "       'Multiple significant trauma w/o O.R. procedure',\n",
       "       'Male reproductive system diagnoses except malignancy',\n",
       "       'Other drug abuse & dependence',\n",
       "       'Osteomyelitis, septic arthritis & other musculoskeletal infections',\n",
       "       'Dental & oral diseases & injuries',\n",
       "       'Major stomach, esophageal & duodenal procedures',\n",
       "       'Respiratory malignancy',\n",
       "       'Malfunction,reaction,complication of cardiac/vasc device or procedure',\n",
       "       'Other skin, subcutaneous tissue & breast disorders',\n",
       "       'Alcoholic liver disease',\n",
       "       'Lymphatic & other malignancies & neoplasms of uncertain behavior',\n",
       "       'Interstitial & alveolar lung diseases',\n",
       "       'Other significant hip and femur surgery',\n",
       "       'Major O.R. procedures for lymphatic/hematopoietic/other neoplasms',\n",
       "       'Kidney & urinary tract malignancy',\n",
       "       'Other small & large bowel procedures',\n",
       "       'Cholecystectomy except laparoscopic', 'Anal procedures',\n",
       "       'Depression except major depressive disorder',\n",
       "       'Other disorders of nervous system',\n",
       "       'Knee & lower leg procedures except foot',\n",
       "       'Degenerative nervous system disorders exc mult sclerosis',\n",
       "       'Neonate birthwt >2499g w major anomaly', 'Knee joint replacement',\n",
       "       'Hepatic coma & other major acute liver disorders',\n",
       "       'OTHER VASCULAR PROCEDURES',\n",
       "       'Amputation of lower limb except toes',\n",
       "       'Gastrointestinal vascular insufficiency',\n",
       "       'Other respiratory & chest procedures', 'Splenectomy',\n",
       "       'Other complications of treatment',\n",
       "       'Perm cardiac pacemaker implant w/o AMI, heart failure or shock',\n",
       "       'Other O.R. procedures for lymphatic/hematopoietic/other neoplasms',\n",
       "       'Coagulation & platelet disorders',\n",
       "       'Hernia procedures except inguinal, femoral & umbilical',\n",
       "       'Sickle cell anemia crisis',\n",
       "       'Partial thickness burns without skin graft',\n",
       "       'Other disorders of the liver', 'Schizophrenia',\n",
       "       'Extracranial vascular procedures',\n",
       "       'Lymphoma, myeloma & non-acute leukemia',\n",
       "       'Non-bacterial infections of nervous system exc viral meningitis',\n",
       "       'Other infectious & parasitic diseases',\n",
       "       'Extensive procedure unrelated to principal diagnosis',\n",
       "       'Uterine & adnexa procedures for non-ovarian & non-adnexal malig',\n",
       "       'Major respiratory & chest procedures', 'Fracture of femur',\n",
       "       'Malfunction, reaction, complic of orthopedic device or procedure',\n",
       "       'Transurethral prostatectomy',\n",
       "       'Concussion, closed skull Fx nos,uncomplicated intracranial injury, coma < 1 hr or no coma',\n",
       "       'Nonspecific CVA & precerebral occlusion w/o infarct',\n",
       "       'Breast procedures except mastectomy', 'Major skin disorders',\n",
       "       'Neonate birthwt >2499g w congenital/perinatal infection',\n",
       "       'Neonate bwt 2000-2499g w other significant condition',\n",
       "       'Neonate bwt 1500-1999g w or w/o other significant condition',\n",
       "       'Cardiac arrest and shock', 'Mastectomy procedures',\n",
       "       'Malignancy, male reproductive system',\n",
       "       'Major abdominal vascular procedures',\n",
       "       'Tracheostomy w MV 96+ hours w extensive procedure or ECMO',\n",
       "       'Other O.R. proc for obstetric diagnoses except delivery diagnoses',\n",
       "       'Tonsil & adenoid procedures',\n",
       "       'Other kidney, urinary tract & related procedures',\n",
       "       'Inborn errors of metabolism',\n",
       "       'Female reproductive system reconstructive procedures',\n",
       "       'Shoulder, upper arm & forearm procedures except joint replacement',\n",
       "       'Other hepatobiliary, pancreas & abdominal procedures',\n",
       "       'Permanent cardiac pacemaker implant w AMI, heart failure or shock',\n",
       "       'Thyroid, parathyroid & thyroglossal procedures',\n",
       "       'Female reproductive system infections',\n",
       "       'Uterine & adnexa procedures for ovarian & adnexal malignancy',\n",
       "       'Rehabilitation', 'Ectopic pregnancy procedure',\n",
       "       'Bipolar disorders',\n",
       "       'Other skin, subcutaneous tissue & related procedures',\n",
       "       'Tracheostomy w MV 96+ hours w/o extensive procedure',\n",
       "       'Eating disorders', 'Migraine & other headaches',\n",
       "       'Viral meningitis', 'Acute anxiety & delirium states',\n",
       "       'Postpartum & post abortion diagnoses w/o procedure',\n",
       "       'Acute major eye infections', 'Neonate bwt <500g or GA <24 weeks',\n",
       "       'Other stomach, esophageal & duodenal procedures',\n",
       "       'Other circulatory system procedures',\n",
       "       'Kidney & urinary tract procedures for nonmalignancy',\n",
       "       'HIV w one signif HIV cond or w/o signif related cond',\n",
       "       'Skin graft for skin & subcutaneous tissue diagnoses',\n",
       "       'Cystic fibrosis - pulmonary disease',\n",
       "       'Other musculoskeletal system & connective tissue procedures',\n",
       "       'Hand & wrist procedures',\n",
       "       'Neonate, transferred <5 days old, not born here',\n",
       "       'Acute & subacute endocarditis',\n",
       "       'Ear, nose, mouth, throat, cranial/facial malignancies',\n",
       "       'Abortion w/o D&C, aspiration curettage or hysterotomy',\n",
       "       'Spinal disorders & injuries', 'Spinal procedures',\n",
       "       'Alcohol & drug dependence w rehab or rehab/detox therapy',\n",
       "       'Behavioral disorders',\n",
       "       'Adjustment disorders & neuroses except depressive diagnoses',\n",
       "       'Cardiac defibrillator & heart assist implant',\n",
       "       'Major bladder procedures',\n",
       "       'Intervertebral disc excision & decompression',\n",
       "       'Extensive abdominal/thoracic procedures for mult significant trauma',\n",
       "       'Major male pelvic procedures',\n",
       "       'Cardiac catheterization for coronary artery disease',\n",
       "       'Kidney & urinary tract procedures for malignancy',\n",
       "       'Testes & scrotal procedures',\n",
       "       'Percutaneous coronary intervention w/o AMI',\n",
       "       'Cardiac catheterization for other non-coronary conditions',\n",
       "       'Other male reproductive system & related procedures',\n",
       "       'Cardiomyopathy',\n",
       "       'Cardiac pacemaker & defibrillator device replacement',\n",
       "       'Acute leukemia',\n",
       "       'Bacterial & tuberculous infections of nervous system'],\n",
       "      dtype=object)"
      ]
     },
     "execution_count": 252,
     "metadata": {},
     "output_type": "execute_result"
    }
   ],
   "source": [
    "#Calculating the unique values of a column 'Illness' which has data in string\n",
    "data_clean['Illness'].unique()"
   ]
  },
  {
   "cell_type": "code",
   "execution_count": 253,
   "metadata": {
    "colab": {
     "base_uri": "https://localhost:8080/"
    },
    "id": "RnSuUL55TmbP",
    "outputId": "647d7d66-5947-46b4-d2d0-8018b2ab00e4"
   },
   "outputs": [
    {
     "name": "stderr",
     "output_type": "stream",
     "text": [
      "C:\\Users\\manas\\AppData\\Local\\Temp\\ipykernel_14496\\4089648654.py:6: SettingWithCopyWarning: \n",
      "A value is trying to be set on a copy of a slice from a DataFrame.\n",
      "Try using .loc[row_indexer,col_indexer] = value instead\n",
      "\n",
      "See the caveats in the documentation: https://pandas.pydata.org/pandas-docs/stable/user_guide/indexing.html#returning-a-view-versus-a-copy\n",
      "  data_clean['Illness'] = data_clean['Illness'].map(illness_mapping)\n"
     ]
    }
   ],
   "source": [
    "#Converting the string unique values of column 'Illness' to numerical data as the machine understands only numerical data(shortcut)\n",
    "\n",
    "illness_mapping = {illness: idx for idx, illness in enumerate(data_clean['Illness'].unique())}\n",
    "\n",
    "# Map the 'Illness' column to numerical values\n",
    "data_clean['Illness'] = data_clean['Illness'].map(illness_mapping)"
   ]
  },
  {
   "cell_type": "code",
   "execution_count": 254,
   "metadata": {
    "colab": {
     "base_uri": "https://localhost:8080/"
    },
    "id": "WtHcLYJtTtl0",
    "outputId": "38275f05-859e-40cd-eb21-62a8d6db0094"
   },
   "outputs": [
    {
     "data": {
      "text/plain": [
       "array(['Medical', 'Surgical'], dtype=object)"
      ]
     },
     "execution_count": 254,
     "metadata": {},
     "output_type": "execute_result"
    }
   ],
   "source": [
    "#Calculating the unique values of a column 'Surg_Description' which has data in string\n",
    "data_clean['Surg_Description'].unique()"
   ]
  },
  {
   "cell_type": "code",
   "execution_count": 255,
   "metadata": {
    "colab": {
     "base_uri": "https://localhost:8080/"
    },
    "id": "FRheNIp2Twe-",
    "outputId": "ce13dd48-0030-4270-db7d-5f9827fb2a75"
   },
   "outputs": [
    {
     "name": "stderr",
     "output_type": "stream",
     "text": [
      "C:\\Users\\manas\\AppData\\Local\\Temp\\ipykernel_14496\\3393624544.py:2: SettingWithCopyWarning: \n",
      "A value is trying to be set on a copy of a slice from a DataFrame.\n",
      "Try using .loc[row_indexer,col_indexer] = value instead\n",
      "\n",
      "See the caveats in the documentation: https://pandas.pydata.org/pandas-docs/stable/user_guide/indexing.html#returning-a-view-versus-a-copy\n",
      "  data_clean['Surg_Description']=data_clean['Surg_Description'].astype(str).map({'Medical':0, 'Surgical':1})\n"
     ]
    }
   ],
   "source": [
    "#Converting the string unique values of column 'Hospital County' to numerical 0 and 1 as the machine understands only numerical data(shortcut)\n",
    "data_clean['Surg_Description']=data_clean['Surg_Description'].astype(str).map({'Medical':0, 'Surgical':1})"
   ]
  },
  {
   "cell_type": "code",
   "execution_count": 256,
   "metadata": {
    "colab": {
     "base_uri": "https://localhost:8080/"
    },
    "id": "WGCKrdsXTyqk",
    "outputId": "d0b05c4c-80e0-4094-f342-7d0223982422"
   },
   "outputs": [
    {
     "name": "stderr",
     "output_type": "stream",
     "text": [
      "C:\\Users\\manas\\AppData\\Local\\Temp\\ipykernel_14496\\953701533.py:10: SettingWithCopyWarning: \n",
      "A value is trying to be set on a copy of a slice from a DataFrame.\n",
      "Try using .loc[row_indexer,col_indexer] = value instead\n",
      "\n",
      "See the caveats in the documentation: https://pandas.pydata.org/pandas-docs/stable/user_guide/indexing.html#returning-a-view-versus-a-copy\n",
      "  data_clean['Days_spent'] = data_clean['Days_spent'].apply(convert_range_to_midpoint)\n"
     ]
    }
   ],
   "source": [
    "def convert_range_to_midpoint(value):\n",
    "    if isinstance(value, str) and '+' in value:\n",
    "        # Handle the range '120+' by choosing a large integer value\n",
    "        return 1e10  # Choose a suitable large integer\n",
    "    else:\n",
    "        # For other values, convert them to integers\n",
    "        return int(value)\n",
    "\n",
    "# Apply the function to the 'Days_spent' column\n",
    "data_clean['Days_spent'] = data_clean['Days_spent'].apply(convert_range_to_midpoint)"
   ]
  },
  {
   "cell_type": "code",
   "execution_count": 257,
   "metadata": {
    "colab": {
     "base_uri": "https://localhost:8080/"
    },
    "id": "tGPiuJ1fT1uS",
    "outputId": "f0fc5fa0-7ca0-4c00-fee9-5909d2ce6220"
   },
   "outputs": [
    {
     "data": {
      "text/plain": [
       "array(['No', 'Yes'], dtype=object)"
      ]
     },
     "execution_count": 257,
     "metadata": {},
     "output_type": "execute_result"
    }
   ],
   "source": [
    "data_clean['PotentialFraud'].unique()"
   ]
  },
  {
   "cell_type": "code",
   "execution_count": 258,
   "metadata": {
    "colab": {
     "base_uri": "https://localhost:8080/"
    },
    "id": "CpEtD6jCT9oW",
    "outputId": "2d2a2932-b1d4-43c7-eb6c-5ef1405ae83e"
   },
   "outputs": [
    {
     "name": "stderr",
     "output_type": "stream",
     "text": [
      "C:\\Users\\manas\\AppData\\Local\\Temp\\ipykernel_14496\\1612097784.py:1: SettingWithCopyWarning: \n",
      "A value is trying to be set on a copy of a slice from a DataFrame.\n",
      "Try using .loc[row_indexer,col_indexer] = value instead\n",
      "\n",
      "See the caveats in the documentation: https://pandas.pydata.org/pandas-docs/stable/user_guide/indexing.html#returning-a-view-versus-a-copy\n",
      "  data_clean['PotentialFraud']=data_clean['PotentialFraud'].map({'No':0,'Yes':1})\n"
     ]
    }
   ],
   "source": [
    "data_clean['PotentialFraud']=data_clean['PotentialFraud'].map({'No':0,'Yes':1})"
   ]
  },
  {
   "cell_type": "code",
   "execution_count": 259,
   "metadata": {
    "colab": {
     "base_uri": "https://localhost:8080/",
     "height": 243
    },
    "id": "c2yeET-JURKg",
    "outputId": "f5f47eca-93ce-4dae-f8a8-0d8f2374325e"
   },
   "outputs": [
    {
     "data": {
      "text/html": [
       "<div>\n",
       "<style scoped>\n",
       "    .dataframe tbody tr th:only-of-type {\n",
       "        vertical-align: middle;\n",
       "    }\n",
       "\n",
       "    .dataframe tbody tr th {\n",
       "        vertical-align: top;\n",
       "    }\n",
       "\n",
       "    .dataframe thead th {\n",
       "        text-align: right;\n",
       "    }\n",
       "</style>\n",
       "<table border=\"1\" class=\"dataframe\">\n",
       "  <thead>\n",
       "    <tr style=\"text-align: right;\">\n",
       "      <th></th>\n",
       "      <th>age</th>\n",
       "      <th>sex</th>\n",
       "      <th>weight</th>\n",
       "      <th>bmi</th>\n",
       "      <th>no_of_dependents</th>\n",
       "      <th>smoker</th>\n",
       "      <th>city</th>\n",
       "      <th>bloodpressure</th>\n",
       "      <th>diabetes</th>\n",
       "      <th>regular_ex</th>\n",
       "      <th>job_title</th>\n",
       "      <th>Hospital County</th>\n",
       "      <th>Days_spent</th>\n",
       "      <th>ccs_diagnosis_code</th>\n",
       "      <th>Illness</th>\n",
       "      <th>Code_illness</th>\n",
       "      <th>Mortality risk</th>\n",
       "      <th>Surg_Description</th>\n",
       "      <th>claim</th>\n",
       "      <th>PotentialFraud</th>\n",
       "    </tr>\n",
       "  </thead>\n",
       "  <tbody>\n",
       "    <tr>\n",
       "      <th>0</th>\n",
       "      <td>60.0</td>\n",
       "      <td>1</td>\n",
       "      <td>64</td>\n",
       "      <td>24.3</td>\n",
       "      <td>1</td>\n",
       "      <td>0</td>\n",
       "      <td>1</td>\n",
       "      <td>72</td>\n",
       "      <td>0</td>\n",
       "      <td>0</td>\n",
       "      <td>1</td>\n",
       "      <td>0</td>\n",
       "      <td>4.0</td>\n",
       "      <td>122</td>\n",
       "      <td>0</td>\n",
       "      <td>1</td>\n",
       "      <td>1.0</td>\n",
       "      <td>0</td>\n",
       "      <td>13112.6</td>\n",
       "      <td>0</td>\n",
       "    </tr>\n",
       "    <tr>\n",
       "      <th>1</th>\n",
       "      <td>49.0</td>\n",
       "      <td>0</td>\n",
       "      <td>75</td>\n",
       "      <td>22.6</td>\n",
       "      <td>1</td>\n",
       "      <td>0</td>\n",
       "      <td>2</td>\n",
       "      <td>78</td>\n",
       "      <td>1</td>\n",
       "      <td>1</td>\n",
       "      <td>2</td>\n",
       "      <td>0</td>\n",
       "      <td>4.0</td>\n",
       "      <td>197</td>\n",
       "      <td>1</td>\n",
       "      <td>3</td>\n",
       "      <td>2.0</td>\n",
       "      <td>0</td>\n",
       "      <td>9567.0</td>\n",
       "      <td>0</td>\n",
       "    </tr>\n",
       "    <tr>\n",
       "      <th>2</th>\n",
       "      <td>32.0</td>\n",
       "      <td>0</td>\n",
       "      <td>64</td>\n",
       "      <td>17.8</td>\n",
       "      <td>2</td>\n",
       "      <td>1</td>\n",
       "      <td>3</td>\n",
       "      <td>88</td>\n",
       "      <td>1</td>\n",
       "      <td>1</td>\n",
       "      <td>3</td>\n",
       "      <td>0</td>\n",
       "      <td>3.0</td>\n",
       "      <td>122</td>\n",
       "      <td>0</td>\n",
       "      <td>1</td>\n",
       "      <td>1.0</td>\n",
       "      <td>0</td>\n",
       "      <td>32734.2</td>\n",
       "      <td>0</td>\n",
       "    </tr>\n",
       "    <tr>\n",
       "      <th>3</th>\n",
       "      <td>61.0</td>\n",
       "      <td>0</td>\n",
       "      <td>53</td>\n",
       "      <td>36.4</td>\n",
       "      <td>1</td>\n",
       "      <td>1</td>\n",
       "      <td>4</td>\n",
       "      <td>72</td>\n",
       "      <td>1</td>\n",
       "      <td>0</td>\n",
       "      <td>4</td>\n",
       "      <td>0</td>\n",
       "      <td>1.0</td>\n",
       "      <td>122</td>\n",
       "      <td>0</td>\n",
       "      <td>1</td>\n",
       "      <td>1.0</td>\n",
       "      <td>0</td>\n",
       "      <td>48517.6</td>\n",
       "      <td>1</td>\n",
       "    </tr>\n",
       "    <tr>\n",
       "      <th>4</th>\n",
       "      <td>19.0</td>\n",
       "      <td>0</td>\n",
       "      <td>50</td>\n",
       "      <td>20.6</td>\n",
       "      <td>0</td>\n",
       "      <td>0</td>\n",
       "      <td>5</td>\n",
       "      <td>82</td>\n",
       "      <td>1</td>\n",
       "      <td>0</td>\n",
       "      <td>5</td>\n",
       "      <td>0</td>\n",
       "      <td>3.0</td>\n",
       "      <td>122</td>\n",
       "      <td>0</td>\n",
       "      <td>2</td>\n",
       "      <td>3.0</td>\n",
       "      <td>0</td>\n",
       "      <td>1731.7</td>\n",
       "      <td>0</td>\n",
       "    </tr>\n",
       "  </tbody>\n",
       "</table>\n",
       "</div>"
      ],
      "text/plain": [
       "    age  sex  weight   bmi  no_of_dependents  smoker  city  bloodpressure  \\\n",
       "0  60.0    1      64  24.3                 1       0     1             72   \n",
       "1  49.0    0      75  22.6                 1       0     2             78   \n",
       "2  32.0    0      64  17.8                 2       1     3             88   \n",
       "3  61.0    0      53  36.4                 1       1     4             72   \n",
       "4  19.0    0      50  20.6                 0       0     5             82   \n",
       "\n",
       "   diabetes  regular_ex  job_title  Hospital County  Days_spent  \\\n",
       "0         0           0          1                0         4.0   \n",
       "1         1           1          2                0         4.0   \n",
       "2         1           1          3                0         3.0   \n",
       "3         1           0          4                0         1.0   \n",
       "4         1           0          5                0         3.0   \n",
       "\n",
       "   ccs_diagnosis_code  Illness  Code_illness  Mortality risk  \\\n",
       "0                 122        0             1             1.0   \n",
       "1                 197        1             3             2.0   \n",
       "2                 122        0             1             1.0   \n",
       "3                 122        0             1             1.0   \n",
       "4                 122        0             2             3.0   \n",
       "\n",
       "   Surg_Description    claim  PotentialFraud  \n",
       "0                 0  13112.6               0  \n",
       "1                 0   9567.0               0  \n",
       "2                 0  32734.2               0  \n",
       "3                 0  48517.6               1  \n",
       "4                 0   1731.7               0  "
      ]
     },
     "execution_count": 259,
     "metadata": {},
     "output_type": "execute_result"
    }
   ],
   "source": [
    "data_clean.head()"
   ]
  },
  {
   "cell_type": "code",
   "execution_count": 260,
   "metadata": {},
   "outputs": [
    {
     "data": {
      "text/html": [
       "<div>\n",
       "<style scoped>\n",
       "    .dataframe tbody tr th:only-of-type {\n",
       "        vertical-align: middle;\n",
       "    }\n",
       "\n",
       "    .dataframe tbody tr th {\n",
       "        vertical-align: top;\n",
       "    }\n",
       "\n",
       "    .dataframe thead th {\n",
       "        text-align: right;\n",
       "    }\n",
       "</style>\n",
       "<table border=\"1\" class=\"dataframe\">\n",
       "  <thead>\n",
       "    <tr style=\"text-align: right;\">\n",
       "      <th></th>\n",
       "      <th>age</th>\n",
       "      <th>sex</th>\n",
       "      <th>weight</th>\n",
       "      <th>bmi</th>\n",
       "      <th>no_of_dependents</th>\n",
       "      <th>smoker</th>\n",
       "      <th>city</th>\n",
       "      <th>bloodpressure</th>\n",
       "      <th>diabetes</th>\n",
       "      <th>regular_ex</th>\n",
       "      <th>job_title</th>\n",
       "      <th>Hospital County</th>\n",
       "      <th>Days_spent</th>\n",
       "      <th>ccs_diagnosis_code</th>\n",
       "      <th>Illness</th>\n",
       "      <th>Code_illness</th>\n",
       "      <th>Mortality risk</th>\n",
       "      <th>Surg_Description</th>\n",
       "      <th>claim</th>\n",
       "      <th>PotentialFraud</th>\n",
       "    </tr>\n",
       "  </thead>\n",
       "  <tbody>\n",
       "    <tr>\n",
       "      <th>0</th>\n",
       "      <td>60.0</td>\n",
       "      <td>1</td>\n",
       "      <td>64</td>\n",
       "      <td>24.3</td>\n",
       "      <td>1</td>\n",
       "      <td>0</td>\n",
       "      <td>1</td>\n",
       "      <td>72</td>\n",
       "      <td>0</td>\n",
       "      <td>0</td>\n",
       "      <td>1</td>\n",
       "      <td>0</td>\n",
       "      <td>4.0</td>\n",
       "      <td>122</td>\n",
       "      <td>0</td>\n",
       "      <td>1</td>\n",
       "      <td>1.0</td>\n",
       "      <td>0</td>\n",
       "      <td>13112.6</td>\n",
       "      <td>0</td>\n",
       "    </tr>\n",
       "    <tr>\n",
       "      <th>1</th>\n",
       "      <td>49.0</td>\n",
       "      <td>0</td>\n",
       "      <td>75</td>\n",
       "      <td>22.6</td>\n",
       "      <td>1</td>\n",
       "      <td>0</td>\n",
       "      <td>2</td>\n",
       "      <td>78</td>\n",
       "      <td>1</td>\n",
       "      <td>1</td>\n",
       "      <td>2</td>\n",
       "      <td>0</td>\n",
       "      <td>4.0</td>\n",
       "      <td>197</td>\n",
       "      <td>1</td>\n",
       "      <td>3</td>\n",
       "      <td>2.0</td>\n",
       "      <td>0</td>\n",
       "      <td>9567.0</td>\n",
       "      <td>0</td>\n",
       "    </tr>\n",
       "    <tr>\n",
       "      <th>2</th>\n",
       "      <td>32.0</td>\n",
       "      <td>0</td>\n",
       "      <td>64</td>\n",
       "      <td>17.8</td>\n",
       "      <td>2</td>\n",
       "      <td>1</td>\n",
       "      <td>3</td>\n",
       "      <td>88</td>\n",
       "      <td>1</td>\n",
       "      <td>1</td>\n",
       "      <td>3</td>\n",
       "      <td>0</td>\n",
       "      <td>3.0</td>\n",
       "      <td>122</td>\n",
       "      <td>0</td>\n",
       "      <td>1</td>\n",
       "      <td>1.0</td>\n",
       "      <td>0</td>\n",
       "      <td>32734.2</td>\n",
       "      <td>0</td>\n",
       "    </tr>\n",
       "    <tr>\n",
       "      <th>3</th>\n",
       "      <td>61.0</td>\n",
       "      <td>0</td>\n",
       "      <td>53</td>\n",
       "      <td>36.4</td>\n",
       "      <td>1</td>\n",
       "      <td>1</td>\n",
       "      <td>4</td>\n",
       "      <td>72</td>\n",
       "      <td>1</td>\n",
       "      <td>0</td>\n",
       "      <td>4</td>\n",
       "      <td>0</td>\n",
       "      <td>1.0</td>\n",
       "      <td>122</td>\n",
       "      <td>0</td>\n",
       "      <td>1</td>\n",
       "      <td>1.0</td>\n",
       "      <td>0</td>\n",
       "      <td>48517.6</td>\n",
       "      <td>1</td>\n",
       "    </tr>\n",
       "    <tr>\n",
       "      <th>4</th>\n",
       "      <td>19.0</td>\n",
       "      <td>0</td>\n",
       "      <td>50</td>\n",
       "      <td>20.6</td>\n",
       "      <td>0</td>\n",
       "      <td>0</td>\n",
       "      <td>5</td>\n",
       "      <td>82</td>\n",
       "      <td>1</td>\n",
       "      <td>0</td>\n",
       "      <td>5</td>\n",
       "      <td>0</td>\n",
       "      <td>3.0</td>\n",
       "      <td>122</td>\n",
       "      <td>0</td>\n",
       "      <td>2</td>\n",
       "      <td>3.0</td>\n",
       "      <td>0</td>\n",
       "      <td>1731.7</td>\n",
       "      <td>0</td>\n",
       "    </tr>\n",
       "  </tbody>\n",
       "</table>\n",
       "</div>"
      ],
      "text/plain": [
       "    age  sex  weight   bmi  no_of_dependents  smoker  city  bloodpressure  \\\n",
       "0  60.0    1      64  24.3                 1       0     1             72   \n",
       "1  49.0    0      75  22.6                 1       0     2             78   \n",
       "2  32.0    0      64  17.8                 2       1     3             88   \n",
       "3  61.0    0      53  36.4                 1       1     4             72   \n",
       "4  19.0    0      50  20.6                 0       0     5             82   \n",
       "\n",
       "   diabetes  regular_ex  job_title  Hospital County  Days_spent  \\\n",
       "0         0           0          1                0         4.0   \n",
       "1         1           1          2                0         4.0   \n",
       "2         1           1          3                0         3.0   \n",
       "3         1           0          4                0         1.0   \n",
       "4         1           0          5                0         3.0   \n",
       "\n",
       "   ccs_diagnosis_code  Illness  Code_illness  Mortality risk  \\\n",
       "0                 122        0             1             1.0   \n",
       "1                 197        1             3             2.0   \n",
       "2                 122        0             1             1.0   \n",
       "3                 122        0             1             1.0   \n",
       "4                 122        0             2             3.0   \n",
       "\n",
       "   Surg_Description    claim  PotentialFraud  \n",
       "0                 0  13112.6               0  \n",
       "1                 0   9567.0               0  \n",
       "2                 0  32734.2               0  \n",
       "3                 0  48517.6               1  \n",
       "4                 0   1731.7               0  "
      ]
     },
     "execution_count": 260,
     "metadata": {},
     "output_type": "execute_result"
    }
   ],
   "source": [
    "data_clean.head()"
   ]
  },
  {
   "cell_type": "code",
   "execution_count": 261,
   "metadata": {},
   "outputs": [],
   "source": [
    "from sklearn.preprocessing import StandardScaler\n",
    "sc = StandardScaler()\n"
   ]
  },
  {
   "cell_type": "code",
   "execution_count": 262,
   "metadata": {
    "id": "csn3JM3bUVqn"
   },
   "outputs": [
    {
     "data": {
      "text/plain": [
       "PotentialFraud\n",
       "0    12257\n",
       "1     1364\n",
       "Name: count, dtype: int64"
      ]
     },
     "execution_count": 262,
     "metadata": {},
     "output_type": "execute_result"
    }
   ],
   "source": [
    "# distribution of legit transactions & fraudulent transactions\n",
    "data_clean['PotentialFraud'].value_counts()"
   ]
  },
  {
   "cell_type": "code",
   "execution_count": 263,
   "metadata": {
    "id": "ootZfl17UhaH"
   },
   "outputs": [],
   "source": [
    "# separating the data for analysis\n",
    "normal = data_clean[data_clean.PotentialFraud == 0]\n",
    "fraud = data_clean[data_clean.PotentialFraud == 1]\n",
    "\n"
   ]
  },
  {
   "cell_type": "code",
   "execution_count": 264,
   "metadata": {
    "colab": {
     "base_uri": "https://localhost:8080/",
     "height": 390
    },
    "id": "Pg88TBHnV0mJ",
    "outputId": "81e78f74-c444-473d-c484-f7653bb60c4c"
   },
   "outputs": [
    {
     "name": "stdout",
     "output_type": "stream",
     "text": [
      "(12257, 20)\n",
      "(1364, 20)\n"
     ]
    }
   ],
   "source": [
    "print(normal.shape)\n",
    "print(fraud.shape)"
   ]
  },
  {
   "cell_type": "code",
   "execution_count": 265,
   "metadata": {
    "id": "egtdxyN9V7QA"
   },
   "outputs": [
    {
     "data": {
      "text/plain": [
       "count    12257.000000\n",
       "mean     10190.609358\n",
       "std       7425.196503\n",
       "min       1121.900000\n",
       "25%       4564.200000\n",
       "50%       8605.400000\n",
       "75%      13047.300000\n",
       "max      34915.700000\n",
       "Name: claim, dtype: float64"
      ]
     },
     "execution_count": 265,
     "metadata": {},
     "output_type": "execute_result"
    }
   ],
   "source": [
    "# statistical measures of the data\n",
    "normal.claim.describe()"
   ]
  },
  {
   "cell_type": "code",
   "execution_count": 266,
   "metadata": {},
   "outputs": [
    {
     "data": {
      "text/plain": [
       "count    12257.000000\n",
       "mean     10190.609358\n",
       "std       7425.196503\n",
       "min       1121.900000\n",
       "25%       4564.200000\n",
       "50%       8605.400000\n",
       "75%      13047.300000\n",
       "max      34915.700000\n",
       "Name: claim, dtype: float64"
      ]
     },
     "execution_count": 266,
     "metadata": {},
     "output_type": "execute_result"
    }
   ],
   "source": [
    "normal.claim.describe()"
   ]
  },
  {
   "cell_type": "code",
   "execution_count": 267,
   "metadata": {},
   "outputs": [
    {
     "data": {
      "text/html": [
       "<div>\n",
       "<style scoped>\n",
       "    .dataframe tbody tr th:only-of-type {\n",
       "        vertical-align: middle;\n",
       "    }\n",
       "\n",
       "    .dataframe tbody tr th {\n",
       "        vertical-align: top;\n",
       "    }\n",
       "\n",
       "    .dataframe thead th {\n",
       "        text-align: right;\n",
       "    }\n",
       "</style>\n",
       "<table border=\"1\" class=\"dataframe\">\n",
       "  <thead>\n",
       "    <tr style=\"text-align: right;\">\n",
       "      <th></th>\n",
       "      <th>age</th>\n",
       "      <th>sex</th>\n",
       "      <th>weight</th>\n",
       "      <th>bmi</th>\n",
       "      <th>no_of_dependents</th>\n",
       "      <th>smoker</th>\n",
       "      <th>city</th>\n",
       "      <th>bloodpressure</th>\n",
       "      <th>diabetes</th>\n",
       "      <th>regular_ex</th>\n",
       "      <th>job_title</th>\n",
       "      <th>Hospital County</th>\n",
       "      <th>Days_spent</th>\n",
       "      <th>ccs_diagnosis_code</th>\n",
       "      <th>Illness</th>\n",
       "      <th>Code_illness</th>\n",
       "      <th>Mortality risk</th>\n",
       "      <th>Surg_Description</th>\n",
       "      <th>claim</th>\n",
       "    </tr>\n",
       "    <tr>\n",
       "      <th>PotentialFraud</th>\n",
       "      <th></th>\n",
       "      <th></th>\n",
       "      <th></th>\n",
       "      <th></th>\n",
       "      <th></th>\n",
       "      <th></th>\n",
       "      <th></th>\n",
       "      <th></th>\n",
       "      <th></th>\n",
       "      <th></th>\n",
       "      <th></th>\n",
       "      <th></th>\n",
       "      <th></th>\n",
       "      <th></th>\n",
       "      <th></th>\n",
       "      <th></th>\n",
       "      <th></th>\n",
       "      <th></th>\n",
       "      <th></th>\n",
       "    </tr>\n",
       "  </thead>\n",
       "  <tbody>\n",
       "    <tr>\n",
       "      <th>0</th>\n",
       "      <td>39.277637</td>\n",
       "      <td>0.476136</td>\n",
       "      <td>64.628620</td>\n",
       "      <td>29.787028</td>\n",
       "      <td>1.088847</td>\n",
       "      <td>0.112670</td>\n",
       "      <td>46.831770</td>\n",
       "      <td>68.455903</td>\n",
       "      <td>0.763808</td>\n",
       "      <td>0.239373</td>\n",
       "      <td>15.727339</td>\n",
       "      <td>1.808681</td>\n",
       "      <td>815864.657991</td>\n",
       "      <td>203.521172</td>\n",
       "      <td>59.983520</td>\n",
       "      <td>2.012891</td>\n",
       "      <td>1.737538</td>\n",
       "      <td>0.165293</td>\n",
       "      <td>10190.609358</td>\n",
       "    </tr>\n",
       "    <tr>\n",
       "      <th>1</th>\n",
       "      <td>42.340909</td>\n",
       "      <td>0.582845</td>\n",
       "      <td>65.134164</td>\n",
       "      <td>34.754985</td>\n",
       "      <td>1.265396</td>\n",
       "      <td>0.968475</td>\n",
       "      <td>47.344575</td>\n",
       "      <td>70.087243</td>\n",
       "      <td>0.955279</td>\n",
       "      <td>0.076246</td>\n",
       "      <td>16.915689</td>\n",
       "      <td>1.815982</td>\n",
       "      <td>4.466276</td>\n",
       "      <td>201.249267</td>\n",
       "      <td>60.173021</td>\n",
       "      <td>2.004399</td>\n",
       "      <td>1.723607</td>\n",
       "      <td>0.170821</td>\n",
       "      <td>42463.341056</td>\n",
       "    </tr>\n",
       "  </tbody>\n",
       "</table>\n",
       "</div>"
      ],
      "text/plain": [
       "                      age       sex     weight        bmi  no_of_dependents  \\\n",
       "PotentialFraud                                                                \n",
       "0               39.277637  0.476136  64.628620  29.787028          1.088847   \n",
       "1               42.340909  0.582845  65.134164  34.754985          1.265396   \n",
       "\n",
       "                  smoker       city  bloodpressure  diabetes  regular_ex  \\\n",
       "PotentialFraud                                                             \n",
       "0               0.112670  46.831770      68.455903  0.763808    0.239373   \n",
       "1               0.968475  47.344575      70.087243  0.955279    0.076246   \n",
       "\n",
       "                job_title  Hospital County     Days_spent  ccs_diagnosis_code  \\\n",
       "PotentialFraud                                                                  \n",
       "0               15.727339         1.808681  815864.657991          203.521172   \n",
       "1               16.915689         1.815982       4.466276          201.249267   \n",
       "\n",
       "                  Illness  Code_illness  Mortality risk  Surg_Description  \\\n",
       "PotentialFraud                                                              \n",
       "0               59.983520      2.012891        1.737538          0.165293   \n",
       "1               60.173021      2.004399        1.723607          0.170821   \n",
       "\n",
       "                       claim  \n",
       "PotentialFraud                \n",
       "0               10190.609358  \n",
       "1               42463.341056  "
      ]
     },
     "execution_count": 267,
     "metadata": {},
     "output_type": "execute_result"
    }
   ],
   "source": [
    "# compare the values for both transactions\n",
    "data_clean.groupby('PotentialFraud').mean()"
   ]
  },
  {
   "cell_type": "code",
   "execution_count": 268,
   "metadata": {},
   "outputs": [],
   "source": [
    "#Handling Undersampling \n",
    "normal_sample = normal.sample(n=1364)"
   ]
  },
  {
   "cell_type": "code",
   "execution_count": 269,
   "metadata": {},
   "outputs": [],
   "source": [
    "#Combing the normal and fraud transactions (Undersampled data)\n",
    "new_dataset = pd.concat([normal_sample, fraud], axis=0)"
   ]
  },
  {
   "cell_type": "code",
   "execution_count": 270,
   "metadata": {},
   "outputs": [
    {
     "data": {
      "text/html": [
       "<div>\n",
       "<style scoped>\n",
       "    .dataframe tbody tr th:only-of-type {\n",
       "        vertical-align: middle;\n",
       "    }\n",
       "\n",
       "    .dataframe tbody tr th {\n",
       "        vertical-align: top;\n",
       "    }\n",
       "\n",
       "    .dataframe thead th {\n",
       "        text-align: right;\n",
       "    }\n",
       "</style>\n",
       "<table border=\"1\" class=\"dataframe\">\n",
       "  <thead>\n",
       "    <tr style=\"text-align: right;\">\n",
       "      <th></th>\n",
       "      <th>age</th>\n",
       "      <th>sex</th>\n",
       "      <th>weight</th>\n",
       "      <th>bmi</th>\n",
       "      <th>no_of_dependents</th>\n",
       "      <th>smoker</th>\n",
       "      <th>city</th>\n",
       "      <th>bloodpressure</th>\n",
       "      <th>diabetes</th>\n",
       "      <th>regular_ex</th>\n",
       "      <th>job_title</th>\n",
       "      <th>Hospital County</th>\n",
       "      <th>Days_spent</th>\n",
       "      <th>ccs_diagnosis_code</th>\n",
       "      <th>Illness</th>\n",
       "      <th>Code_illness</th>\n",
       "      <th>Mortality risk</th>\n",
       "      <th>Surg_Description</th>\n",
       "      <th>claim</th>\n",
       "      <th>PotentialFraud</th>\n",
       "    </tr>\n",
       "  </thead>\n",
       "  <tbody>\n",
       "    <tr>\n",
       "      <th>12904</th>\n",
       "      <td>52.0</td>\n",
       "      <td>1</td>\n",
       "      <td>63</td>\n",
       "      <td>32.2</td>\n",
       "      <td>3</td>\n",
       "      <td>0</td>\n",
       "      <td>44</td>\n",
       "      <td>54</td>\n",
       "      <td>1</td>\n",
       "      <td>1</td>\n",
       "      <td>25</td>\n",
       "      <td>3</td>\n",
       "      <td>3.0</td>\n",
       "      <td>106</td>\n",
       "      <td>57</td>\n",
       "      <td>3</td>\n",
       "      <td>3.0</td>\n",
       "      <td>0</td>\n",
       "      <td>11488.3</td>\n",
       "      <td>0</td>\n",
       "    </tr>\n",
       "    <tr>\n",
       "      <th>6105</th>\n",
       "      <td>24.0</td>\n",
       "      <td>0</td>\n",
       "      <td>46</td>\n",
       "      <td>20.5</td>\n",
       "      <td>0</td>\n",
       "      <td>1</td>\n",
       "      <td>9</td>\n",
       "      <td>90</td>\n",
       "      <td>1</td>\n",
       "      <td>1</td>\n",
       "      <td>5</td>\n",
       "      <td>1</td>\n",
       "      <td>2.0</td>\n",
       "      <td>2</td>\n",
       "      <td>30</td>\n",
       "      <td>1</td>\n",
       "      <td>3.0</td>\n",
       "      <td>0</td>\n",
       "      <td>14571.9</td>\n",
       "      <td>0</td>\n",
       "    </tr>\n",
       "    <tr>\n",
       "      <th>12530</th>\n",
       "      <td>18.0</td>\n",
       "      <td>1</td>\n",
       "      <td>67</td>\n",
       "      <td>34.4</td>\n",
       "      <td>0</td>\n",
       "      <td>0</td>\n",
       "      <td>49</td>\n",
       "      <td>55</td>\n",
       "      <td>1</td>\n",
       "      <td>0</td>\n",
       "      <td>10</td>\n",
       "      <td>3</td>\n",
       "      <td>3.0</td>\n",
       "      <td>128</td>\n",
       "      <td>14</td>\n",
       "      <td>2</td>\n",
       "      <td>1.0</td>\n",
       "      <td>0</td>\n",
       "      <td>1137.5</td>\n",
       "      <td>0</td>\n",
       "    </tr>\n",
       "    <tr>\n",
       "      <th>2826</th>\n",
       "      <td>22.0</td>\n",
       "      <td>1</td>\n",
       "      <td>50</td>\n",
       "      <td>28.3</td>\n",
       "      <td>1</td>\n",
       "      <td>0</td>\n",
       "      <td>17</td>\n",
       "      <td>52</td>\n",
       "      <td>1</td>\n",
       "      <td>0</td>\n",
       "      <td>1</td>\n",
       "      <td>1</td>\n",
       "      <td>5.0</td>\n",
       "      <td>15</td>\n",
       "      <td>48</td>\n",
       "      <td>2</td>\n",
       "      <td>1.0</td>\n",
       "      <td>1</td>\n",
       "      <td>2639.0</td>\n",
       "      <td>0</td>\n",
       "    </tr>\n",
       "    <tr>\n",
       "      <th>2547</th>\n",
       "      <td>28.0</td>\n",
       "      <td>0</td>\n",
       "      <td>62</td>\n",
       "      <td>28.9</td>\n",
       "      <td>1</td>\n",
       "      <td>0</td>\n",
       "      <td>17</td>\n",
       "      <td>72</td>\n",
       "      <td>1</td>\n",
       "      <td>0</td>\n",
       "      <td>20</td>\n",
       "      <td>1</td>\n",
       "      <td>2.0</td>\n",
       "      <td>112</td>\n",
       "      <td>116</td>\n",
       "      <td>2</td>\n",
       "      <td>3.0</td>\n",
       "      <td>0</td>\n",
       "      <td>4337.7</td>\n",
       "      <td>0</td>\n",
       "    </tr>\n",
       "  </tbody>\n",
       "</table>\n",
       "</div>"
      ],
      "text/plain": [
       "        age  sex  weight   bmi  no_of_dependents  smoker  city  bloodpressure  \\\n",
       "12904  52.0    1      63  32.2                 3       0    44             54   \n",
       "6105   24.0    0      46  20.5                 0       1     9             90   \n",
       "12530  18.0    1      67  34.4                 0       0    49             55   \n",
       "2826   22.0    1      50  28.3                 1       0    17             52   \n",
       "2547   28.0    0      62  28.9                 1       0    17             72   \n",
       "\n",
       "       diabetes  regular_ex  job_title  Hospital County  Days_spent  \\\n",
       "12904         1           1         25                3         3.0   \n",
       "6105          1           1          5                1         2.0   \n",
       "12530         1           0         10                3         3.0   \n",
       "2826          1           0          1                1         5.0   \n",
       "2547          1           0         20                1         2.0   \n",
       "\n",
       "       ccs_diagnosis_code  Illness  Code_illness  Mortality risk  \\\n",
       "12904                 106       57             3             3.0   \n",
       "6105                    2       30             1             3.0   \n",
       "12530                 128       14             2             1.0   \n",
       "2826                   15       48             2             1.0   \n",
       "2547                  112      116             2             3.0   \n",
       "\n",
       "       Surg_Description    claim  PotentialFraud  \n",
       "12904                 0  11488.3               0  \n",
       "6105                  0  14571.9               0  \n",
       "12530                 0   1137.5               0  \n",
       "2826                  1   2639.0               0  \n",
       "2547                  0   4337.7               0  "
      ]
     },
     "execution_count": 270,
     "metadata": {},
     "output_type": "execute_result"
    }
   ],
   "source": [
    "new_dataset.head()"
   ]
  },
  {
   "cell_type": "code",
   "execution_count": 271,
   "metadata": {},
   "outputs": [
    {
     "data": {
      "text/html": [
       "<div>\n",
       "<style scoped>\n",
       "    .dataframe tbody tr th:only-of-type {\n",
       "        vertical-align: middle;\n",
       "    }\n",
       "\n",
       "    .dataframe tbody tr th {\n",
       "        vertical-align: top;\n",
       "    }\n",
       "\n",
       "    .dataframe thead th {\n",
       "        text-align: right;\n",
       "    }\n",
       "</style>\n",
       "<table border=\"1\" class=\"dataframe\">\n",
       "  <thead>\n",
       "    <tr style=\"text-align: right;\">\n",
       "      <th></th>\n",
       "      <th>age</th>\n",
       "      <th>sex</th>\n",
       "      <th>weight</th>\n",
       "      <th>bmi</th>\n",
       "      <th>no_of_dependents</th>\n",
       "      <th>smoker</th>\n",
       "      <th>city</th>\n",
       "      <th>bloodpressure</th>\n",
       "      <th>diabetes</th>\n",
       "      <th>regular_ex</th>\n",
       "      <th>job_title</th>\n",
       "      <th>Hospital County</th>\n",
       "      <th>Days_spent</th>\n",
       "      <th>ccs_diagnosis_code</th>\n",
       "      <th>Illness</th>\n",
       "      <th>Code_illness</th>\n",
       "      <th>Mortality risk</th>\n",
       "      <th>Surg_Description</th>\n",
       "      <th>claim</th>\n",
       "      <th>PotentialFraud</th>\n",
       "    </tr>\n",
       "  </thead>\n",
       "  <tbody>\n",
       "    <tr>\n",
       "      <th>14935</th>\n",
       "      <td>39.0</td>\n",
       "      <td>1</td>\n",
       "      <td>74</td>\n",
       "      <td>35.3</td>\n",
       "      <td>2</td>\n",
       "      <td>1</td>\n",
       "      <td>61</td>\n",
       "      <td>64</td>\n",
       "      <td>1</td>\n",
       "      <td>0</td>\n",
       "      <td>23</td>\n",
       "      <td>3</td>\n",
       "      <td>2.0</td>\n",
       "      <td>218</td>\n",
       "      <td>43</td>\n",
       "      <td>1</td>\n",
       "      <td>1.0</td>\n",
       "      <td>0</td>\n",
       "      <td>40103.9</td>\n",
       "      <td>1</td>\n",
       "    </tr>\n",
       "    <tr>\n",
       "      <th>14936</th>\n",
       "      <td>20.0</td>\n",
       "      <td>1</td>\n",
       "      <td>52</td>\n",
       "      <td>26.4</td>\n",
       "      <td>2</td>\n",
       "      <td>1</td>\n",
       "      <td>62</td>\n",
       "      <td>70</td>\n",
       "      <td>1</td>\n",
       "      <td>0</td>\n",
       "      <td>10</td>\n",
       "      <td>3</td>\n",
       "      <td>2.0</td>\n",
       "      <td>197</td>\n",
       "      <td>1</td>\n",
       "      <td>2</td>\n",
       "      <td>1.0</td>\n",
       "      <td>0</td>\n",
       "      <td>38344.6</td>\n",
       "      <td>1</td>\n",
       "    </tr>\n",
       "    <tr>\n",
       "      <th>14968</th>\n",
       "      <td>26.0</td>\n",
       "      <td>0</td>\n",
       "      <td>57</td>\n",
       "      <td>32.5</td>\n",
       "      <td>0</td>\n",
       "      <td>1</td>\n",
       "      <td>22</td>\n",
       "      <td>65</td>\n",
       "      <td>0</td>\n",
       "      <td>1</td>\n",
       "      <td>12</td>\n",
       "      <td>3</td>\n",
       "      <td>1.0</td>\n",
       "      <td>128</td>\n",
       "      <td>4</td>\n",
       "      <td>2</td>\n",
       "      <td>3.0</td>\n",
       "      <td>0</td>\n",
       "      <td>35908.7</td>\n",
       "      <td>1</td>\n",
       "    </tr>\n",
       "    <tr>\n",
       "      <th>14983</th>\n",
       "      <td>37.0</td>\n",
       "      <td>0</td>\n",
       "      <td>76</td>\n",
       "      <td>38.4</td>\n",
       "      <td>0</td>\n",
       "      <td>1</td>\n",
       "      <td>90</td>\n",
       "      <td>86</td>\n",
       "      <td>1</td>\n",
       "      <td>0</td>\n",
       "      <td>31</td>\n",
       "      <td>3</td>\n",
       "      <td>26.0</td>\n",
       "      <td>99</td>\n",
       "      <td>47</td>\n",
       "      <td>4</td>\n",
       "      <td>4.0</td>\n",
       "      <td>0</td>\n",
       "      <td>40419.0</td>\n",
       "      <td>1</td>\n",
       "    </tr>\n",
       "    <tr>\n",
       "      <th>14990</th>\n",
       "      <td>43.0</td>\n",
       "      <td>1</td>\n",
       "      <td>72</td>\n",
       "      <td>36.0</td>\n",
       "      <td>3</td>\n",
       "      <td>1</td>\n",
       "      <td>26</td>\n",
       "      <td>74</td>\n",
       "      <td>1</td>\n",
       "      <td>0</td>\n",
       "      <td>12</td>\n",
       "      <td>3</td>\n",
       "      <td>2.0</td>\n",
       "      <td>112</td>\n",
       "      <td>116</td>\n",
       "      <td>2</td>\n",
       "      <td>3.0</td>\n",
       "      <td>0</td>\n",
       "      <td>42124.5</td>\n",
       "      <td>1</td>\n",
       "    </tr>\n",
       "  </tbody>\n",
       "</table>\n",
       "</div>"
      ],
      "text/plain": [
       "        age  sex  weight   bmi  no_of_dependents  smoker  city  bloodpressure  \\\n",
       "14935  39.0    1      74  35.3                 2       1    61             64   \n",
       "14936  20.0    1      52  26.4                 2       1    62             70   \n",
       "14968  26.0    0      57  32.5                 0       1    22             65   \n",
       "14983  37.0    0      76  38.4                 0       1    90             86   \n",
       "14990  43.0    1      72  36.0                 3       1    26             74   \n",
       "\n",
       "       diabetes  regular_ex  job_title  Hospital County  Days_spent  \\\n",
       "14935         1           0         23                3         2.0   \n",
       "14936         1           0         10                3         2.0   \n",
       "14968         0           1         12                3         1.0   \n",
       "14983         1           0         31                3        26.0   \n",
       "14990         1           0         12                3         2.0   \n",
       "\n",
       "       ccs_diagnosis_code  Illness  Code_illness  Mortality risk  \\\n",
       "14935                 218       43             1             1.0   \n",
       "14936                 197        1             2             1.0   \n",
       "14968                 128        4             2             3.0   \n",
       "14983                  99       47             4             4.0   \n",
       "14990                 112      116             2             3.0   \n",
       "\n",
       "       Surg_Description    claim  PotentialFraud  \n",
       "14935                 0  40103.9               1  \n",
       "14936                 0  38344.6               1  \n",
       "14968                 0  35908.7               1  \n",
       "14983                 0  40419.0               1  \n",
       "14990                 0  42124.5               1  "
      ]
     },
     "execution_count": 271,
     "metadata": {},
     "output_type": "execute_result"
    }
   ],
   "source": [
    "new_dataset.tail()"
   ]
  },
  {
   "cell_type": "code",
   "execution_count": 272,
   "metadata": {},
   "outputs": [
    {
     "data": {
      "text/plain": [
       "PotentialFraud\n",
       "0    1364\n",
       "1    1364\n",
       "Name: count, dtype: int64"
      ]
     },
     "execution_count": 272,
     "metadata": {},
     "output_type": "execute_result"
    }
   ],
   "source": [
    "#Counting fraud and normal as expected they are equal so our model is fit for training\n",
    "new_dataset['PotentialFraud'].value_counts()"
   ]
  },
  {
   "cell_type": "code",
   "execution_count": 273,
   "metadata": {},
   "outputs": [],
   "source": [
    "#splitting data\n",
    "x=new_dataset.drop('PotentialFraud', axis=1)\n",
    "y=new_dataset['PotentialFraud']"
   ]
  },
  {
   "cell_type": "code",
   "execution_count": 274,
   "metadata": {},
   "outputs": [],
   "source": [
    "#importing model selection \n",
    "from sklearn.model_selection import train_test_split\n",
    "\n",
    "x_train, x_test, y_train, y_test = train_test_split(x, y, test_size=0.2, random_state=42)\n"
   ]
  },
  {
   "cell_type": "code",
   "execution_count": 275,
   "metadata": {},
   "outputs": [
    {
     "name": "stderr",
     "output_type": "stream",
     "text": [
      "C:\\Users\\manas\\AppData\\Local\\Programs\\Python\\Python311\\Lib\\site-packages\\sklearn\\linear_model\\_logistic.py:460: ConvergenceWarning: lbfgs failed to converge (status=1):\n",
      "STOP: TOTAL NO. of ITERATIONS REACHED LIMIT.\n",
      "\n",
      "Increase the number of iterations (max_iter) or scale the data as shown in:\n",
      "    https://scikit-learn.org/stable/modules/preprocessing.html\n",
      "Please also refer to the documentation for alternative solver options:\n",
      "    https://scikit-learn.org/stable/modules/linear_model.html#logistic-regression\n",
      "  n_iter_i = _check_optimize_result(\n"
     ]
    },
    {
     "data": {
      "text/html": [
       "<style>#sk-container-id-15 {color: black;}#sk-container-id-15 pre{padding: 0;}#sk-container-id-15 div.sk-toggleable {background-color: white;}#sk-container-id-15 label.sk-toggleable__label {cursor: pointer;display: block;width: 100%;margin-bottom: 0;padding: 0.3em;box-sizing: border-box;text-align: center;}#sk-container-id-15 label.sk-toggleable__label-arrow:before {content: \"▸\";float: left;margin-right: 0.25em;color: #696969;}#sk-container-id-15 label.sk-toggleable__label-arrow:hover:before {color: black;}#sk-container-id-15 div.sk-estimator:hover label.sk-toggleable__label-arrow:before {color: black;}#sk-container-id-15 div.sk-toggleable__content {max-height: 0;max-width: 0;overflow: hidden;text-align: left;background-color: #f0f8ff;}#sk-container-id-15 div.sk-toggleable__content pre {margin: 0.2em;color: black;border-radius: 0.25em;background-color: #f0f8ff;}#sk-container-id-15 input.sk-toggleable__control:checked~div.sk-toggleable__content {max-height: 200px;max-width: 100%;overflow: auto;}#sk-container-id-15 input.sk-toggleable__control:checked~label.sk-toggleable__label-arrow:before {content: \"▾\";}#sk-container-id-15 div.sk-estimator input.sk-toggleable__control:checked~label.sk-toggleable__label {background-color: #d4ebff;}#sk-container-id-15 div.sk-label input.sk-toggleable__control:checked~label.sk-toggleable__label {background-color: #d4ebff;}#sk-container-id-15 input.sk-hidden--visually {border: 0;clip: rect(1px 1px 1px 1px);clip: rect(1px, 1px, 1px, 1px);height: 1px;margin: -1px;overflow: hidden;padding: 0;position: absolute;width: 1px;}#sk-container-id-15 div.sk-estimator {font-family: monospace;background-color: #f0f8ff;border: 1px dotted black;border-radius: 0.25em;box-sizing: border-box;margin-bottom: 0.5em;}#sk-container-id-15 div.sk-estimator:hover {background-color: #d4ebff;}#sk-container-id-15 div.sk-parallel-item::after {content: \"\";width: 100%;border-bottom: 1px solid gray;flex-grow: 1;}#sk-container-id-15 div.sk-label:hover label.sk-toggleable__label {background-color: #d4ebff;}#sk-container-id-15 div.sk-serial::before {content: \"\";position: absolute;border-left: 1px solid gray;box-sizing: border-box;top: 0;bottom: 0;left: 50%;z-index: 0;}#sk-container-id-15 div.sk-serial {display: flex;flex-direction: column;align-items: center;background-color: white;padding-right: 0.2em;padding-left: 0.2em;position: relative;}#sk-container-id-15 div.sk-item {position: relative;z-index: 1;}#sk-container-id-15 div.sk-parallel {display: flex;align-items: stretch;justify-content: center;background-color: white;position: relative;}#sk-container-id-15 div.sk-item::before, #sk-container-id-15 div.sk-parallel-item::before {content: \"\";position: absolute;border-left: 1px solid gray;box-sizing: border-box;top: 0;bottom: 0;left: 50%;z-index: -1;}#sk-container-id-15 div.sk-parallel-item {display: flex;flex-direction: column;z-index: 1;position: relative;background-color: white;}#sk-container-id-15 div.sk-parallel-item:first-child::after {align-self: flex-end;width: 50%;}#sk-container-id-15 div.sk-parallel-item:last-child::after {align-self: flex-start;width: 50%;}#sk-container-id-15 div.sk-parallel-item:only-child::after {width: 0;}#sk-container-id-15 div.sk-dashed-wrapped {border: 1px dashed gray;margin: 0 0.4em 0.5em 0.4em;box-sizing: border-box;padding-bottom: 0.4em;background-color: white;}#sk-container-id-15 div.sk-label label {font-family: monospace;font-weight: bold;display: inline-block;line-height: 1.2em;}#sk-container-id-15 div.sk-label-container {text-align: center;}#sk-container-id-15 div.sk-container {/* jupyter's `normalize.less` sets `[hidden] { display: none; }` but bootstrap.min.css set `[hidden] { display: none !important; }` so we also need the `!important` here to be able to override the default hidden behavior on the sphinx rendered scikit-learn.org. See: https://github.com/scikit-learn/scikit-learn/issues/21755 */display: inline-block !important;position: relative;}#sk-container-id-15 div.sk-text-repr-fallback {display: none;}</style><div id=\"sk-container-id-15\" class=\"sk-top-container\"><div class=\"sk-text-repr-fallback\"><pre>LogisticRegression()</pre><b>In a Jupyter environment, please rerun this cell to show the HTML representation or trust the notebook. <br />On GitHub, the HTML representation is unable to render, please try loading this page with nbviewer.org.</b></div><div class=\"sk-container\" hidden><div class=\"sk-item\"><div class=\"sk-estimator sk-toggleable\"><input class=\"sk-toggleable__control sk-hidden--visually\" id=\"sk-estimator-id-15\" type=\"checkbox\" checked><label for=\"sk-estimator-id-15\" class=\"sk-toggleable__label sk-toggleable__label-arrow\">LogisticRegression</label><div class=\"sk-toggleable__content\"><pre>LogisticRegression()</pre></div></div></div></div></div>"
      ],
      "text/plain": [
       "LogisticRegression()"
      ]
     },
     "execution_count": 275,
     "metadata": {},
     "output_type": "execute_result"
    }
   ],
   "source": [
    "#Importing Logistic Regression\n",
    "from sklearn.linear_model import LogisticRegression\n",
    "\n",
    "#Creating instance of LogisticRegression\n",
    "LOR = LogisticRegression()\n",
    "\n",
    "#Training \n",
    "LOR.fit(x_train,y_train)"
   ]
  },
  {
   "cell_type": "code",
   "execution_count": 276,
   "metadata": {},
   "outputs": [],
   "source": [
    "#Prediction of Logistic Regression\n",
    "y_pred1=LOR.predict(x_test)"
   ]
  },
  {
   "cell_type": "code",
   "execution_count": 277,
   "metadata": {},
   "outputs": [],
   "source": [
    "#Predicting Score\n",
    "from sklearn.metrics import accuracy_score\n",
    "from sklearn.metrics import precision_score,recall_score,f1_score"
   ]
  },
  {
   "cell_type": "code",
   "execution_count": 278,
   "metadata": {},
   "outputs": [
    {
     "data": {
      "text/plain": [
       "0.9853479853479854"
      ]
     },
     "execution_count": 278,
     "metadata": {},
     "output_type": "execute_result"
    }
   ],
   "source": [
    "accuracy_score(y_test,y_pred1)"
   ]
  },
  {
   "cell_type": "code",
   "execution_count": 279,
   "metadata": {},
   "outputs": [
    {
     "data": {
      "text/plain": [
       "0.975177304964539"
      ]
     },
     "execution_count": 279,
     "metadata": {},
     "output_type": "execute_result"
    }
   ],
   "source": [
    "precision_score(y_test,y_pred1)"
   ]
  },
  {
   "cell_type": "code",
   "execution_count": 280,
   "metadata": {},
   "outputs": [
    {
     "data": {
      "text/plain": [
       "0.9963768115942029"
      ]
     },
     "execution_count": 280,
     "metadata": {},
     "output_type": "execute_result"
    }
   ],
   "source": [
    "recall_score(y_test,y_pred1)"
   ]
  },
  {
   "cell_type": "code",
   "execution_count": 281,
   "metadata": {},
   "outputs": [
    {
     "data": {
      "text/plain": [
       "0.985663082437276"
      ]
     },
     "execution_count": 281,
     "metadata": {},
     "output_type": "execute_result"
    }
   ],
   "source": [
    "f1_score(y_test,y_pred1)"
   ]
  },
  {
   "cell_type": "code",
   "execution_count": 282,
   "metadata": {},
   "outputs": [],
   "source": [
    "#Saving Job\n",
    "LOR1=LogisticRegression()"
   ]
  },
  {
   "cell_type": "code",
   "execution_count": 283,
   "metadata": {},
   "outputs": [
    {
     "name": "stderr",
     "output_type": "stream",
     "text": [
      "C:\\Users\\manas\\AppData\\Local\\Programs\\Python\\Python311\\Lib\\site-packages\\sklearn\\linear_model\\_logistic.py:460: ConvergenceWarning: lbfgs failed to converge (status=1):\n",
      "STOP: TOTAL NO. of ITERATIONS REACHED LIMIT.\n",
      "\n",
      "Increase the number of iterations (max_iter) or scale the data as shown in:\n",
      "    https://scikit-learn.org/stable/modules/preprocessing.html\n",
      "Please also refer to the documentation for alternative solver options:\n",
      "    https://scikit-learn.org/stable/modules/linear_model.html#logistic-regression\n",
      "  n_iter_i = _check_optimize_result(\n"
     ]
    },
    {
     "data": {
      "text/html": [
       "<style>#sk-container-id-16 {color: black;}#sk-container-id-16 pre{padding: 0;}#sk-container-id-16 div.sk-toggleable {background-color: white;}#sk-container-id-16 label.sk-toggleable__label {cursor: pointer;display: block;width: 100%;margin-bottom: 0;padding: 0.3em;box-sizing: border-box;text-align: center;}#sk-container-id-16 label.sk-toggleable__label-arrow:before {content: \"▸\";float: left;margin-right: 0.25em;color: #696969;}#sk-container-id-16 label.sk-toggleable__label-arrow:hover:before {color: black;}#sk-container-id-16 div.sk-estimator:hover label.sk-toggleable__label-arrow:before {color: black;}#sk-container-id-16 div.sk-toggleable__content {max-height: 0;max-width: 0;overflow: hidden;text-align: left;background-color: #f0f8ff;}#sk-container-id-16 div.sk-toggleable__content pre {margin: 0.2em;color: black;border-radius: 0.25em;background-color: #f0f8ff;}#sk-container-id-16 input.sk-toggleable__control:checked~div.sk-toggleable__content {max-height: 200px;max-width: 100%;overflow: auto;}#sk-container-id-16 input.sk-toggleable__control:checked~label.sk-toggleable__label-arrow:before {content: \"▾\";}#sk-container-id-16 div.sk-estimator input.sk-toggleable__control:checked~label.sk-toggleable__label {background-color: #d4ebff;}#sk-container-id-16 div.sk-label input.sk-toggleable__control:checked~label.sk-toggleable__label {background-color: #d4ebff;}#sk-container-id-16 input.sk-hidden--visually {border: 0;clip: rect(1px 1px 1px 1px);clip: rect(1px, 1px, 1px, 1px);height: 1px;margin: -1px;overflow: hidden;padding: 0;position: absolute;width: 1px;}#sk-container-id-16 div.sk-estimator {font-family: monospace;background-color: #f0f8ff;border: 1px dotted black;border-radius: 0.25em;box-sizing: border-box;margin-bottom: 0.5em;}#sk-container-id-16 div.sk-estimator:hover {background-color: #d4ebff;}#sk-container-id-16 div.sk-parallel-item::after {content: \"\";width: 100%;border-bottom: 1px solid gray;flex-grow: 1;}#sk-container-id-16 div.sk-label:hover label.sk-toggleable__label {background-color: #d4ebff;}#sk-container-id-16 div.sk-serial::before {content: \"\";position: absolute;border-left: 1px solid gray;box-sizing: border-box;top: 0;bottom: 0;left: 50%;z-index: 0;}#sk-container-id-16 div.sk-serial {display: flex;flex-direction: column;align-items: center;background-color: white;padding-right: 0.2em;padding-left: 0.2em;position: relative;}#sk-container-id-16 div.sk-item {position: relative;z-index: 1;}#sk-container-id-16 div.sk-parallel {display: flex;align-items: stretch;justify-content: center;background-color: white;position: relative;}#sk-container-id-16 div.sk-item::before, #sk-container-id-16 div.sk-parallel-item::before {content: \"\";position: absolute;border-left: 1px solid gray;box-sizing: border-box;top: 0;bottom: 0;left: 50%;z-index: -1;}#sk-container-id-16 div.sk-parallel-item {display: flex;flex-direction: column;z-index: 1;position: relative;background-color: white;}#sk-container-id-16 div.sk-parallel-item:first-child::after {align-self: flex-end;width: 50%;}#sk-container-id-16 div.sk-parallel-item:last-child::after {align-self: flex-start;width: 50%;}#sk-container-id-16 div.sk-parallel-item:only-child::after {width: 0;}#sk-container-id-16 div.sk-dashed-wrapped {border: 1px dashed gray;margin: 0 0.4em 0.5em 0.4em;box-sizing: border-box;padding-bottom: 0.4em;background-color: white;}#sk-container-id-16 div.sk-label label {font-family: monospace;font-weight: bold;display: inline-block;line-height: 1.2em;}#sk-container-id-16 div.sk-label-container {text-align: center;}#sk-container-id-16 div.sk-container {/* jupyter's `normalize.less` sets `[hidden] { display: none; }` but bootstrap.min.css set `[hidden] { display: none !important; }` so we also need the `!important` here to be able to override the default hidden behavior on the sphinx rendered scikit-learn.org. See: https://github.com/scikit-learn/scikit-learn/issues/21755 */display: inline-block !important;position: relative;}#sk-container-id-16 div.sk-text-repr-fallback {display: none;}</style><div id=\"sk-container-id-16\" class=\"sk-top-container\"><div class=\"sk-text-repr-fallback\"><pre>LogisticRegression()</pre><b>In a Jupyter environment, please rerun this cell to show the HTML representation or trust the notebook. <br />On GitHub, the HTML representation is unable to render, please try loading this page with nbviewer.org.</b></div><div class=\"sk-container\" hidden><div class=\"sk-item\"><div class=\"sk-estimator sk-toggleable\"><input class=\"sk-toggleable__control sk-hidden--visually\" id=\"sk-estimator-id-16\" type=\"checkbox\" checked><label for=\"sk-estimator-id-16\" class=\"sk-toggleable__label sk-toggleable__label-arrow\">LogisticRegression</label><div class=\"sk-toggleable__content\"><pre>LogisticRegression()</pre></div></div></div></div></div>"
      ],
      "text/plain": [
       "LogisticRegression()"
      ]
     },
     "execution_count": 283,
     "metadata": {},
     "output_type": "execute_result"
    }
   ],
   "source": [
    "LOR1.fit(x_train,y_train)"
   ]
  },
  {
   "cell_type": "code",
   "execution_count": 284,
   "metadata": {},
   "outputs": [],
   "source": [
    "import joblib"
   ]
  },
  {
   "cell_type": "code",
   "execution_count": 285,
   "metadata": {},
   "outputs": [
    {
     "data": {
      "text/plain": [
       "['Fraud Mediclaim Detection']"
      ]
     },
     "execution_count": 285,
     "metadata": {},
     "output_type": "execute_result"
    }
   ],
   "source": [
    "joblib.dump(LOR1,\"Fraud Mediclaim Detection\") #assiging a name to the job "
   ]
  },
  {
   "cell_type": "code",
   "execution_count": 286,
   "metadata": {},
   "outputs": [],
   "source": [
    "model=joblib.load(\"Fraud Mediclaim Detection\")\n"
   ]
  },
  {
   "cell_type": "code",
   "execution_count": 298,
   "metadata": {},
   "outputs": [
    {
     "name": "stderr",
     "output_type": "stream",
     "text": [
      "C:\\Users\\manas\\AppData\\Local\\Programs\\Python\\Python311\\Lib\\site-packages\\sklearn\\base.py:464: UserWarning: X does not have valid feature names, but LogisticRegression was fitted with feature names\n",
      "  warnings.warn(\n"
     ]
    }
   ],
   "source": [
    "#input for prediction\n",
    "pred = model.predict([[50.0\t,1,\t88,\t28.7\t,2,\t0,\t68,\t86,\t0\t,1,\t14,\t3,\t2.0,\t780,\t33,\t3,\t3.0,\t0,\t10000000\t]])\n",
    "\n"
   ]
  },
  {
   "cell_type": "code",
   "execution_count": 299,
   "metadata": {},
   "outputs": [
    {
     "name": "stdout",
     "output_type": "stream",
     "text": [
      "Fraudulent Transcation\n"
     ]
    }
   ],
   "source": [
    "if pred == 0:\n",
    "    print(\"Normal Transcation\")\n",
    "else:\n",
    "    print(\"Fraudulent Transcation\")"
   ]
  },
  {
   "cell_type": "code",
   "execution_count": null,
   "metadata": {},
   "outputs": [],
   "source": []
  }
 ],
 "metadata": {
  "colab": {
   "provenance": [],
   "toc_visible": true
  },
  "kernelspec": {
   "display_name": "Python 3 (ipykernel)",
   "language": "python",
   "name": "python3"
  },
  "language_info": {
   "codemirror_mode": {
    "name": "ipython",
    "version": 3
   },
   "file_extension": ".py",
   "mimetype": "text/x-python",
   "name": "python",
   "nbconvert_exporter": "python",
   "pygments_lexer": "ipython3",
   "version": "3.11.4"
  }
 },
 "nbformat": 4,
 "nbformat_minor": 4
}
